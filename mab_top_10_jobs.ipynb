       index                  company  \
27881  16334  Avenues India Pvt. Ltd.   

                                               education  experience  \
27881  UG: Any Graduate PG:Any Postgraduate Doctorate...           2   

                     industry  \
27881  Recruitment / Staffing   

                                          jobdescription        jobtitle  \
27881  Job Description   Send me Jobs like this Respo...  java developer   

                          payrate                   postdate  \
27881  not disclosed by recruiter  2015-12-29 02:23:38 +0000   

                                      skills  ...    vec_11    vec_12  \
27881  IT Software - Application Programming  ...  0.752354  0.076151   

         vec_13   vec_14    vec_15    vec_16    vec_17    vec_18    vec_19  \
27881  0.545561  0.78359  0.546318 -0.538105 -0.052098 -0.525946 -2.026206   

         vec_20  
27881  0.107671  

[1 rows x 38 columns]
      index                     company  \
3690   2092  Ankit Bhatnagar Consultant   

                                              education  experience  \
3690  UG: Any Graduate - Any Specialization PG:Any P...           0   

                             industry  \
3690  IT-Software / Software Services   

                                         jobdescription        jobtitle  \
3690  Job Description   Send me Jobs like this java ...  java developer   

                         payrate                   postdate  \
3690  not disclosed by recruiter  2016-03-15 02:30:24 +0000   

                                     skills  ...    vec_11    vec_12  \
3690  IT Software - Application Programming  ...  0.849927  0.183648   

        vec_13    vec_14   vec_15    vec_16    vec_17    vec_18    vec_19  \
3690  0.745043  0.892275  1.30788  0.473033  0.316402 -1.074261 -1.369049   

        vec_20  
3690 -0.947416  

[1 rows x 38 columns]
       index          company  \
27027  15903  SA Technologies   

                                               education  experience  \
27027  UG: Any Graduate - Any Specialization, Graduat...           3   

                              industry  \
27027  IT-Software / Software Services   

                                          jobdescription        jobtitle  \
27027  Job Description   Send me Jobs like this SA Te...  java developer   

                          payrate                   postdate  \
27027  not disclosed by recruiter  2016-05-05 01:22:00 +0000   

                                      skills  ...    vec_11    vec_12  \
27027  IT Software - Application Programming  ...  0.632219 -0.375012   

         vec_13    vec_14    vec_15    vec_16    vec_17    vec_18    vec_19  \
27027  1.319004  1.330806 -0.696935  0.734152  0.581739 -0.929979 -1.175564   

        vec_20  
27027 -0.69035  

[1 rows x 38 columns]
       index                          company  \
32891  18843  Genx Info Technologies Pvt. Ltd   

                                               education  experience  \
32891  UG: B.Tech/B.E. PG:M.Tech Doctorate:Any Doctor...           2   

                              industry  \
32891  IT-Software / Software Services   

                                          jobdescription        jobtitle  \
32891  Job Description   Send me Jobs like this Excel...  java developer   

                          payrate                   postdate  \
32891  not disclosed by recruiter  2015-11-23 22:17:58 +0000   

                                      skills  ...    vec_11    vec_12  \
32891  IT Software - Application Programming  ... -0.804859  0.255713   

         vec_13    vec_14    vec_15    vec_16    vec_17    vec_18   vec_19  \
32891  0.638486  0.423607  0.566762  0.076355  0.353638 -0.943606 -1.60768   

         vec_20  
32891  0.406024  

[1 rows x 38 columns]
       index                          company  \
32892  18843  Genx Info Technologies Pvt. Ltd   

                                               education  experience  \
32892  UG: B.Tech/B.E. PG:M.Tech Doctorate:Any Doctor...           2   

                              industry  \
32892  IT-Software / Software Services   

                                          jobdescription        jobtitle  \
32892  Job Description   Send me Jobs like this Excel...  java developer   

                          payrate                   postdate  \
32892  not disclosed by recruiter  2015-11-23 22:17:58 +0000   

                                      skills  ...    vec_11    vec_12  \
32892  IT Software - Application Programming  ... -0.781174  0.301685   

         vec_13    vec_14   vec_15    vec_16    vec_17    vec_18    vec_19  \
32892  0.685452  0.463841  0.64279  0.067298  0.309873 -1.018175 -1.682639   

        vec_20  
32892  0.38029  

[1 rows x 38 columns]
       index                     company  \
20623  11827  Ankit Bhatnagar Consultant   

                                               education  experience  \
20623  UG: Any Graduate - Any Specialization PG:Any P...           2   

                                industry  \
20623  Textiles / Garments / Accessories   

                                          jobdescription         jobtitle  \
20623  Job Description   Send me Jobs like this java ...  java developers   

                          payrate                   postdate  skills  ...  \
20623  not disclosed by recruiter  2016-04-01 07:24:19 +0000  Hotels  ...   

         vec_11    vec_12   vec_13   vec_14    vec_15    vec_16    vec_17  \
20623  0.503925  1.394075 -0.16889  0.25731  1.042638  1.606802 -0.395282   

         vec_18    vec_19    vec_20  
20623 -0.519973 -1.233186 -1.296035  

[1 rows x 38 columns]
      index                       company  \
6155   3392  CRAVAKA Info Systems Pvt Ltd   

                                              education  experience  \
6155  UG: Any Graduate PG:Any Postgraduate Doctorate...           1   

                             industry  \
6155  IT-Software / Software Services   

                                         jobdescription         jobtitle  \
6155  Job Description   Send me Jobs like this In de...  java developers   

                         payrate                   postdate  \
6155  not disclosed by recruiter  2016-02-19 02:31:28 +0000   

                                     skills  ...    vec_11    vec_12  \
6155  IT Software - Application Programming  ...  0.073727 -0.112772   

        vec_13    vec_14   vec_15    vec_16    vec_17    vec_18    vec_19  \
6155  1.092736  0.181937  0.78132  1.240147  0.168955 -1.640687 -1.217241   

        vec_20  
6155 -0.186164  

[1 rows x 38 columns]
       index                  company  \
19350  10929  Larsen & Toubro Limited   

                                               education  experience  \
19350  UG: Any Graduate - Any Specialization, B.Tech/...           3   

                              industry  \
19350  IT-Software / Software Services   

                                          jobdescription        jobtitle  \
19350  Job Description   Send me Jobs like this We ha...  java developer   

                          payrate                   postdate  \
19350  not disclosed by recruiter  2016-03-28 17:04:52 +0000   

                                      skills  ...    vec_11    vec_12  \
19350  IT Software - Application Programming  ... -0.185878 -0.782459   

         vec_13    vec_14    vec_15    vec_16    vec_17    vec_18    vec_19  \
19350  1.000464  0.788383  0.722256  0.118562  0.059297 -2.789718 -1.075388   

         vec_20  
19350  0.375061  

[1 rows x 38 columns]
      index                     company  \
5086   2789  Ankit Bhatnagar Consultant   

                                              education  experience  \
5086  UG: Any Graduate - Any Specialization PG:Any P...           0   

                                           industry  \
5086  Automobile / Auto Anciliary / Auto Components   

                                         jobdescription        jobtitle  \
5086  Job Description   Send me Jobs like this java ...  java developer   

                         payrate                   postdate  skills  ...  \
5086  not disclosed by recruiter  2016-03-16 02:31:00 +0000  Design  ...   

        vec_11    vec_12    vec_13    vec_14    vec_15    vec_16    vec_17  \
5086 -0.288404 -0.217122  0.233023  0.412524  1.468447  0.707063  0.140509   

        vec_18   vec_19    vec_20  
5086 -1.538378 -1.84854 -0.754428  

[1 rows x 38 columns]
      index                              company  \
5194   2855  New Era India Consultancy Pvt. Ltd.   

                                              education  experience  \
5194  UG: Any Graduate - Any Specialization, Graduat...           7   

                      industry  \
5194  BPO / Call Centre / ITES   

                                         jobdescription            jobtitle  \
5194  Job Description   Send me Jobs like this JOB D...  sr. java developer   

                       payrate                   postdate skills  ...  \
5194  8,00,000 - 16,00,000 p.a  2016-03-15 02:31:03 +0000   ITES  ...   

        vec_11   vec_12    vec_13    vec_14    vec_15    vec_16   vec_17  \
5194 -0.135406 -1.18777 -0.786562  0.820602  0.189866  0.664705  0.95002   

        vec_18    vec_19    vec_20  
5194 -2.132857 -1.036886  0.084954  

[1 rows x 38 columns]
