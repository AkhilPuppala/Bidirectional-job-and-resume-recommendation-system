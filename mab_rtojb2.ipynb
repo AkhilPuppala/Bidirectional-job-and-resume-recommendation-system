       index                              company  \
6218    3424     Unitforce technologies Pvt. Ltd.   
6219    3424     Unitforce technologies Pvt. Ltd.   
6220    3424     Unitforce technologies Pvt. Ltd.   
7803    4237                           Tridentsqa   
13722   7506                  RavinderKhurana.com   
16339   9009                        Allure medspa   
16618   9288              Entrepreneurs Institute   
20472  11716  CStone Software Solutions Pvt. Ltd.   
22881  13520         Hari Krishna Exports Pvt Ltd   
27185  15995                       Maharaja Games   
27307  16053                             Encoders   
28371  16605                       Aarav Infotech   
28757  16814                 Creative Virtual Ltd   
29413  17124                     WATMedia Pvt Ltd   
29414  17124                     WATMedia Pvt Ltd   
34282  19573                 SavvyonWeb Pvt. Ltd.   
34283  19573                 SavvyonWeb Pvt. Ltd.   
35253  20081                       RS IT Services   
35254  20081                       RS IT Services   
36200  20514                infiniti techlabs LLP   

                                               education  experience  \
6218   UG: Any Graduate - Any Specialization PG:Any P...           3   
6219   UG: Any Graduate - Any Specialization PG:Any P...           3   
6220   UG: Any Graduate - Any Specialization PG:Any P...           3   
7803   UG: B.Tech/B.E. - Any Specialization PG:Any Po...           5   
13722  UG: Any Graduate - Any Specialization, Graduat...           2   
16339    UG: B.Tech/B.E. PG:Post Graduation Not Required           2   
16618    UG: B.Tech/B.E. PG:Post Graduation Not Required           3   
20472  UG: B.Tech/B.E. PG:M.Tech Doctorate:Any Doctor...           2   
22881  UG: Any Graduate - Any Specialization PG:Any P...           0   
27185  UG: B.Tech/B.E. PG:Post Graduation Not Require...           2   
27307  UG: B.Tech/B.E. PG:Post Graduation Not Require...           0   
28371  UG: Any Graduate PG:Any Postgraduate Doctorate...           3   
28757  UG: B.Tech/B.E. PG:Any Postgraduate Doctorate:...           2   
29413  UG: B.Tech/B.E. PG:MCA Doctorate:Any Doctorate...           2   
29414  UG: B.Tech/B.E. PG:MCA Doctorate:Any Doctorate...           2   
34282  UG: Diploma PG:MCA Doctorate:Any Doctorate - A...           3   
34283  UG: Diploma PG:MCA Doctorate:Any Doctorate - A...           3   
35253  UG: B.Tech/B.E. PG:M.Tech Doctorate:Any Doctor...           2   
35254  UG: B.Tech/B.E. PG:M.Tech Doctorate:Any Doctor...           2   
36200  UG: Any Graduate - Any Specialization PG:Post ...           2   

                               industry  \
6218    IT-Software / Software Services   
6219    IT-Software / Software Services   
6220    IT-Software / Software Services   
7803    IT-Software / Software Services   
13722   IT-Software / Software Services   
16339  Medical / Healthcare / Hospitals   
16618   Education / Teaching / Training   
20472   IT-Software / Software Services   
22881                  Gems / Jewellery   
27185   IT-Software / Software Services   
27307   IT-Software / Software Services   
28371   IT-Software / Software Services   
28757              Internet / Ecommerce   
29413              Internet / Ecommerce   
29414              Internet / Ecommerce   
34282   IT-Software / Software Services   
34283   IT-Software / Software Services   
35253   IT-Software / Software Services   
35254   IT-Software / Software Services   
36200   IT-Software / Software Services   

                                          jobdescription           jobtitle  \
6218   Job Description   Send me Jobs like this WMB d...      wmb developer   
6219   Job Description   Send me Jobs like this WMB d...      wmb developer   
6220   Job Description   Send me Jobs like this WMB d...      wmb developer   
7803   Job Description   Send me Jobs like this Web a...  sr. web developer   
13722  Job Description   Send me Jobs like this  Php ...  php web developer   
16339  Job Description   Send me Jobs like this Desig...      web developer   
16618  Job Description   Send me Jobs like this Requi...  php web developer   
20472  Job Description   Send me Jobs like this Job D...      web developer   
22881  Job Description   Send me Jobs like this MVC 5...      web developer   
27185  Job Description   Send me Jobs like this Job D...   web ui developer   
27307  Job Description   Send me Jobs like this Job D...  php web developer   
28371  Job Description   Send me Jobs like this Build...      web developer   
28757  Job Description   Send me Jobs like this As a ...      web developer   
29413  Job Description   Send me Jobs like this KEY O...      web developer   
29414  Job Description   Send me Jobs like this KEY O...      web developer   
34282  Job Description   Send me Jobs like this All o...      web developer   
34283  Job Description   Send me Jobs like this All o...      web developer   
35253  Job Description   Send me Jobs like this Job D...      web developer   
35254  Job Description   Send me Jobs like this Job D...      web developer   
36200  Job Description   Send me Jobs like this The r...      web developer   

                          payrate                   postdate  \
6218   not disclosed by recruiter  2016-03-03 02:31:30 +0000   
6219   not disclosed by recruiter  2016-03-03 02:31:30 +0000   
6220   not disclosed by recruiter  2016-03-03 02:31:30 +0000   
7803     5,50,000 - 12,00,000 p.a  2015-11-28 01:33:11 +0000   
13722     2,50,000 - 3,50,000 p.a  2016-05-05 11:34:57 +0000   
16339  not disclosed by recruiter  2016-12-07 10:37:28 +0000   
16618  not disclosed by recruiter  2016-12-07 10:37:38 +0000   
20472  not disclosed by recruiter  2016-04-02 07:24:12 +0000   
22881     1,50,000 - 2,50,000 p.a  2016-10-26 19:49:11 +0000   
27185  not disclosed by recruiter  2015-12-29 02:23:30 +0000   
27307  not disclosed by recruiter  2015-12-29 02:23:31 +0000   
28371  not disclosed by recruiter  2015-12-29 02:23:46 +0000   
28757  not disclosed by recruiter  2015-12-29 02:23:51 +0000   
29413  not disclosed by recruiter  2015-12-29 02:24:00 +0000   
29414  not disclosed by recruiter  2015-12-29 02:24:00 +0000   
34282  not disclosed by recruiter  2015-11-22 22:18:24 +0000   
34283  not disclosed by recruiter  2015-11-22 22:18:24 +0000   
35253  not disclosed by recruiter  2015-11-22 22:18:41 +0000   
35254  not disclosed by recruiter  2015-11-22 22:18:41 +0000   
36200     2,00,000 - 4,00,000 p.a  2016-12-23 18:18:42 +0000   

                                      skills  ...    vec_11    vec_12  \
6218   IT Software - Application Programming  ...  0.391490  0.066063   
6219   IT Software - Application Programming  ...  0.035159 -0.153056   
6220   IT Software - Application Programming  ...  0.128796  0.105695   
7803   IT Software - Application Programming  ... -0.413741  0.599350   
13722  IT Software - Application Programming  ...  1.041439 -0.182820   
16339  IT Software - Application Programming  ... -0.073142 -1.393698   
16618  IT Software - Application Programming  ...  0.338874 -0.167017   
20472  IT Software - Application Programming  ... -0.780718 -1.520085   
22881  IT Software - Application Programming  ...  1.800367  0.127612   
27185  IT Software - Application Programming  ... -0.052380  0.068036   
27307  IT Software - Application Programming  ... -0.188655 -0.394199   
28371  IT Software - Application Programming  ... -0.067002 -0.537373   
28757  IT Software - Application Programming  ...  0.374581 -0.902395   
29413                IT Software - eCommerce  ... -0.187065 -1.049630   
29414                IT Software - eCommerce  ... -0.189517 -1.086482   
34282                IT Software - eCommerce  ... -0.005841 -0.577677   
34283                IT Software - eCommerce  ...  0.098527 -0.643512   
35253                IT Software - eCommerce  ... -0.268401  0.582463   
35254                IT Software - eCommerce  ... -0.240351  0.357450   
36200  IT Software - Application Programming  ... -0.271806 -0.539509   

         vec_13    vec_14    vec_15    vec_16    vec_17    vec_18    vec_19  \
6218   0.995358  0.917844  0.880328  1.232585  0.700943 -0.736825 -1.986075   
6219   1.169243  1.052707  0.851187  1.394920  0.828095 -0.846378 -1.890002   
6220   1.177398  0.872298  0.937858  1.217213  0.804606 -0.969477 -1.867691   
7803  -0.135774  1.477745 -0.651424  0.516931  0.145489 -2.178552 -1.207910   
13722  0.164081 -0.804110  0.597809  2.578591  0.635159 -0.327458 -1.576116   
16339  0.166848 -0.220100 -0.073356  0.933618  1.280806 -1.291992 -1.777846   
16618  0.960878  0.223957 -0.037303  1.409271  0.035253 -0.382582 -1.600043   
20472  1.079026 -0.431897 -0.043569  0.576997  0.227181 -2.032741 -1.521465   
22881  0.013201 -0.205606 -1.044441 -0.270980  0.838854 -0.588209 -2.760608   
27185 -0.905750  0.162404  0.021230  1.895264  1.478877 -1.314827 -3.148428   
27307  0.209654  0.575441 -1.022072  0.035911 -0.337461 -1.955133 -1.903038   
28371  0.995331  0.137135  1.315953  1.147612  0.308791 -1.229511 -2.435273   
28757  1.062587  0.028559  0.726968  2.110510 -1.244971 -1.309451 -1.517296   
29413 -0.991022 -0.771232 -0.502027  1.958541 -0.260747 -1.771496 -4.130433   
29414 -1.210339 -0.868082 -0.404326  1.951521 -0.253738 -1.794984 -4.181354   
34282 -0.839931  1.149358 -0.206640  1.624540  1.154471 -0.197016 -2.123808   
34283 -0.672299  1.044123 -0.162735  1.771631  1.007267 -0.415371 -2.074380   
35253  0.849136  0.611754 -0.907915  0.353217 -0.900099 -0.213363 -2.336693   
35254  0.988270  0.648296 -0.989641  0.336883 -0.940521 -0.360252 -2.378437   
36200  0.457185  0.586332 -0.966872 -0.901568  0.058696 -1.689903 -1.924392   

         vec_20  
6218  -2.045456  
6219  -1.980978  
6220  -2.035514  
7803  -0.474731  
13722 -0.957809  
16339 -1.100883  
16618 -0.301734  
20472  0.424267  
22881 -0.197480  
27185 -0.090510  
27307  0.834992  
28371 -0.380065  
28757  0.479274  
29413  0.528526  
29414  0.410408  
34282 -0.987168  
34283 -0.883571  
35253 -0.014691  
35254 -0.093145  
36200  1.298033  

[20 rows x 38 columns]
