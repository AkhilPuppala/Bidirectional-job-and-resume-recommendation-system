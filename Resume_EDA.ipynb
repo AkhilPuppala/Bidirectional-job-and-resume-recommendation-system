{
 "cells": [
  {
   "cell_type": "markdown",
   "metadata": {},
   "source": [
    "# Resumes:  EDA, Data Wrangling and Feature Engineering"
   ]
  },
  {
   "cell_type": "code",
   "execution_count": 482,
   "metadata": {},
   "outputs": [],
   "source": [
    "import numpy as np\n",
    "import pandas as pd\n",
    "import json\n",
    "import matplotlib.pyplot as plt\n",
    "%matplotlib inline\n",
    "\n",
    "import re\n",
    "import datetime\n",
    "from datetime import date\n",
    "from time import strptime\n",
    "\n",
    "import RAKE as rake\n",
    "import operator\n"
   ]
  },
  {
   "cell_type": "markdown",
   "metadata": {},
   "source": [
    "# Step 1. EDA\n",
    "* First removing nulls\n",
    "* making dataset 'even' by- \n",
    "        --dropping row/ columns \n",
    "        --imputing values as needed"
   ]
  },
  {
   "cell_type": "code",
   "execution_count": 483,
   "metadata": {},
   "outputs": [],
   "source": [
    "# First reading my resume csv\n",
    "resume = pd.read_csv('resume_data.csv')"
   ]
  },
  {
   "cell_type": "code",
   "execution_count": 484,
   "metadata": {},
   "outputs": [
    {
     "name": "stdout",
     "output_type": "stream",
     "text": [
      "<class 'pandas.core.frame.DataFrame'>\n",
      "RangeIndex: 14806 entries, 0 to 14805\n",
      "Data columns (total 10 columns):\n",
      " #   Column                  Non-Null Count  Dtype \n",
      "---  ------                  --------------  ----- \n",
      " 0   Resume_title            14800 non-null  object\n",
      " 1   City                    14800 non-null  object\n",
      " 2   State                   14800 non-null  object\n",
      " 3   Description             14800 non-null  object\n",
      " 4   work_experiences        14800 non-null  object\n",
      " 5   Educations              14798 non-null  object\n",
      " 6   Skills                  14798 non-null  object\n",
      " 7   Links                   14798 non-null  object\n",
      " 8   Certificates            14798 non-null  object\n",
      " 9   Additional Information  14798 non-null  object\n",
      "dtypes: object(10)\n",
      "memory usage: 1.1+ MB\n"
     ]
    }
   ],
   "source": [
    "#initial info\n",
    "resume.info()"
   ]
  },
  {
   "cell_type": "markdown",
   "metadata": {},
   "source": [
    "### As, noticed, there are null values in dataset. So very first step is to study nulls and remove or impute."
   ]
  },
  {
   "cell_type": "code",
   "execution_count": 485,
   "metadata": {},
   "outputs": [
    {
     "data": {
      "text/html": [
       "<div>\n",
       "<style scoped>\n",
       "    .dataframe tbody tr th:only-of-type {\n",
       "        vertical-align: middle;\n",
       "    }\n",
       "\n",
       "    .dataframe tbody tr th {\n",
       "        vertical-align: top;\n",
       "    }\n",
       "\n",
       "    .dataframe thead th {\n",
       "        text-align: right;\n",
       "    }\n",
       "</style>\n",
       "<table border=\"1\" class=\"dataframe\">\n",
       "  <thead>\n",
       "    <tr style=\"text-align: right;\">\n",
       "      <th></th>\n",
       "      <th>Resume_title</th>\n",
       "      <th>City</th>\n",
       "      <th>State</th>\n",
       "      <th>Description</th>\n",
       "      <th>work_experiences</th>\n",
       "      <th>Educations</th>\n",
       "      <th>Skills</th>\n",
       "      <th>Links</th>\n",
       "      <th>Certificates</th>\n",
       "      <th>Additional Information</th>\n",
       "    </tr>\n",
       "  </thead>\n",
       "  <tbody>\n",
       "    <tr>\n",
       "      <th>4701</th>\n",
       "      <td>Independent Consultant</td>\n",
       "      <td>Chennai</td>\n",
       "      <td>Tamil Nadu</td>\n",
       "      <td>Name: Gopalan Lakshmipathy \\n \\nEmail Id: Gopa...</td>\n",
       "      <td>{0: [{'wtitle:': 'Independent Consultant'}, {'...</td>\n",
       "      <td>NaN</td>\n",
       "      <td>NaN</td>\n",
       "      <td>NaN</td>\n",
       "      <td>NaN</td>\n",
       "      <td>NaN</td>\n",
       "    </tr>\n",
       "    <tr>\n",
       "      <th>4702</th>\n",
       "      <td>NaN</td>\n",
       "      <td>NaN</td>\n",
       "      <td>NaN</td>\n",
       "      <td>NaN</td>\n",
       "      <td>NaN</td>\n",
       "      <td>NaN</td>\n",
       "      <td>NaN</td>\n",
       "      <td>NaN</td>\n",
       "      <td>NaN</td>\n",
       "      <td>NaN</td>\n",
       "    </tr>\n",
       "    <tr>\n",
       "      <th>4703</th>\n",
       "      <td>NaN</td>\n",
       "      <td>NaN</td>\n",
       "      <td>NaN</td>\n",
       "      <td>NaN</td>\n",
       "      <td>NaN</td>\n",
       "      <td>NaN</td>\n",
       "      <td>NaN</td>\n",
       "      <td>NaN</td>\n",
       "      <td>NaN</td>\n",
       "      <td>NaN</td>\n",
       "    </tr>\n",
       "    <tr>\n",
       "      <th>4704</th>\n",
       "      <td>NaN</td>\n",
       "      <td>NaN</td>\n",
       "      <td>NaN</td>\n",
       "      <td>NaN</td>\n",
       "      <td>NaN</td>\n",
       "      <td>NaN</td>\n",
       "      <td>NaN</td>\n",
       "      <td>NaN</td>\n",
       "      <td>NaN</td>\n",
       "      <td>NaN</td>\n",
       "    </tr>\n",
       "    <tr>\n",
       "      <th>4727</th>\n",
       "      <td>NONE</td>\n",
       "      <td>Chennai</td>\n",
       "      <td>Tamil Nadu</td>\n",
       "      <td>NONE</td>\n",
       "      <td>{0: [{'wtitle:': 'Dean &amp; Curriculum Developmen...</td>\n",
       "      <td>NaN</td>\n",
       "      <td>NaN</td>\n",
       "      <td>NaN</td>\n",
       "      <td>NaN</td>\n",
       "      <td>NaN</td>\n",
       "    </tr>\n",
       "    <tr>\n",
       "      <th>4728</th>\n",
       "      <td>NaN</td>\n",
       "      <td>NaN</td>\n",
       "      <td>NaN</td>\n",
       "      <td>NaN</td>\n",
       "      <td>NaN</td>\n",
       "      <td>NaN</td>\n",
       "      <td>NaN</td>\n",
       "      <td>NaN</td>\n",
       "      <td>NaN</td>\n",
       "      <td>NaN</td>\n",
       "    </tr>\n",
       "    <tr>\n",
       "      <th>4729</th>\n",
       "      <td>NaN</td>\n",
       "      <td>NaN</td>\n",
       "      <td>NaN</td>\n",
       "      <td>NaN</td>\n",
       "      <td>NaN</td>\n",
       "      <td>NaN</td>\n",
       "      <td>NaN</td>\n",
       "      <td>NaN</td>\n",
       "      <td>NaN</td>\n",
       "      <td>NaN</td>\n",
       "    </tr>\n",
       "    <tr>\n",
       "      <th>4730</th>\n",
       "      <td>NaN</td>\n",
       "      <td>NaN</td>\n",
       "      <td>NaN</td>\n",
       "      <td>NaN</td>\n",
       "      <td>NaN</td>\n",
       "      <td>NaN</td>\n",
       "      <td>NaN</td>\n",
       "      <td>NaN</td>\n",
       "      <td>NaN</td>\n",
       "      <td>NaN</td>\n",
       "    </tr>\n",
       "  </tbody>\n",
       "</table>\n",
       "</div>"
      ],
      "text/plain": [
       "                Resume_title     City        State  \\\n",
       "4701  Independent Consultant  Chennai   Tamil Nadu   \n",
       "4702                     NaN      NaN          NaN   \n",
       "4703                     NaN      NaN          NaN   \n",
       "4704                     NaN      NaN          NaN   \n",
       "4727                    NONE  Chennai   Tamil Nadu   \n",
       "4728                     NaN      NaN          NaN   \n",
       "4729                     NaN      NaN          NaN   \n",
       "4730                     NaN      NaN          NaN   \n",
       "\n",
       "                                            Description  \\\n",
       "4701  Name: Gopalan Lakshmipathy \\n \\nEmail Id: Gopa...   \n",
       "4702                                                NaN   \n",
       "4703                                                NaN   \n",
       "4704                                                NaN   \n",
       "4727                                               NONE   \n",
       "4728                                                NaN   \n",
       "4729                                                NaN   \n",
       "4730                                                NaN   \n",
       "\n",
       "                                       work_experiences Educations Skills  \\\n",
       "4701  {0: [{'wtitle:': 'Independent Consultant'}, {'...        NaN    NaN   \n",
       "4702                                                NaN        NaN    NaN   \n",
       "4703                                                NaN        NaN    NaN   \n",
       "4704                                                NaN        NaN    NaN   \n",
       "4727  {0: [{'wtitle:': 'Dean & Curriculum Developmen...        NaN    NaN   \n",
       "4728                                                NaN        NaN    NaN   \n",
       "4729                                                NaN        NaN    NaN   \n",
       "4730                                                NaN        NaN    NaN   \n",
       "\n",
       "     Links Certificates Additional Information  \n",
       "4701   NaN          NaN                    NaN  \n",
       "4702   NaN          NaN                    NaN  \n",
       "4703   NaN          NaN                    NaN  \n",
       "4704   NaN          NaN                    NaN  \n",
       "4727   NaN          NaN                    NaN  \n",
       "4728   NaN          NaN                    NaN  \n",
       "4729   NaN          NaN                    NaN  \n",
       "4730   NaN          NaN                    NaN  "
      ]
     },
     "execution_count": 485,
     "metadata": {},
     "output_type": "execute_result"
    }
   ],
   "source": [
    "#checking null rows\n",
    "resume[resume.isnull().any(axis=1)]"
   ]
  },
  {
   "cell_type": "code",
   "execution_count": 486,
   "metadata": {},
   "outputs": [],
   "source": [
    "#dropping null rows\n",
    "resume = resume.dropna()\n",
    "resume = resume.reset_index(drop=True)"
   ]
  },
  {
   "cell_type": "code",
   "execution_count": 487,
   "metadata": {},
   "outputs": [
    {
     "name": "stdout",
     "output_type": "stream",
     "text": [
      "<class 'pandas.core.frame.DataFrame'>\n",
      "RangeIndex: 14798 entries, 0 to 14797\n",
      "Data columns (total 10 columns):\n",
      " #   Column                  Non-Null Count  Dtype \n",
      "---  ------                  --------------  ----- \n",
      " 0   Resume_title            14798 non-null  object\n",
      " 1   City                    14798 non-null  object\n",
      " 2   State                   14798 non-null  object\n",
      " 3   Description             14798 non-null  object\n",
      " 4   work_experiences        14798 non-null  object\n",
      " 5   Educations              14798 non-null  object\n",
      " 6   Skills                  14798 non-null  object\n",
      " 7   Links                   14798 non-null  object\n",
      " 8   Certificates            14798 non-null  object\n",
      " 9   Additional Information  14798 non-null  object\n",
      "dtypes: object(10)\n",
      "memory usage: 1.1+ MB\n"
     ]
    }
   ],
   "source": [
    "resume.info()"
   ]
  },
  {
   "cell_type": "markdown",
   "metadata": {},
   "source": [
    "## Eyeballing dataset"
   ]
  },
  {
   "cell_type": "code",
   "execution_count": 488,
   "metadata": {},
   "outputs": [
    {
     "data": {
      "text/html": [
       "<div>\n",
       "<style scoped>\n",
       "    .dataframe tbody tr th:only-of-type {\n",
       "        vertical-align: middle;\n",
       "    }\n",
       "\n",
       "    .dataframe tbody tr th {\n",
       "        vertical-align: top;\n",
       "    }\n",
       "\n",
       "    .dataframe thead th {\n",
       "        text-align: right;\n",
       "    }\n",
       "</style>\n",
       "<table border=\"1\" class=\"dataframe\">\n",
       "  <thead>\n",
       "    <tr style=\"text-align: right;\">\n",
       "      <th></th>\n",
       "      <th>Resume_title</th>\n",
       "      <th>City</th>\n",
       "      <th>State</th>\n",
       "      <th>Description</th>\n",
       "      <th>work_experiences</th>\n",
       "      <th>Educations</th>\n",
       "      <th>Skills</th>\n",
       "      <th>Links</th>\n",
       "      <th>Certificates</th>\n",
       "      <th>Additional Information</th>\n",
       "    </tr>\n",
       "  </thead>\n",
       "  <tbody>\n",
       "    <tr>\n",
       "      <th>0</th>\n",
       "      <td>Java Developer</td>\n",
       "      <td>Tirur</td>\n",
       "      <td>Kerala</td>\n",
       "      <td>To prove myself dedicated, worthy and energeti...</td>\n",
       "      <td>{0: [{'wtitle:': 'Java Developer'}, {'wcompany...</td>\n",
       "      <td>{0: [{'e_title:': \"Bachelor's in Bachelor of C...</td>\n",
       "      <td>['Java (Less than 1 year)', ' Jsp (Less than 1...</td>\n",
       "      <td>['https://www.linkedin.com/in/mohamed-rihan-k-...</td>\n",
       "      <td>{0: [{'c_title:': 'Java Developer'}, {'c_durat...</td>\n",
       "      <td>\\nTechnical Expertise \\nâ€¢ Operating Systems:...</td>\n",
       "    </tr>\n",
       "    <tr>\n",
       "      <th>1</th>\n",
       "      <td>Software Developer</td>\n",
       "      <td>Bengaluru</td>\n",
       "      <td>Karnataka</td>\n",
       "      <td>Working as Software Developer at IngroInfo Sof...</td>\n",
       "      <td>{0: [{'wtitle:': 'JAVA DEVELOPER'}, {'wcompany...</td>\n",
       "      <td>{0: [{'e_title:': 'MCA in Master of Computer A...</td>\n",
       "      <td>['Programming Languages: Core Java', ' J2EE \\n...</td>\n",
       "      <td>['http://github.com/NK-PATEL/Train_Project', '...</td>\n",
       "      <td>{}</td>\n",
       "      <td>NONE</td>\n",
       "    </tr>\n",
       "    <tr>\n",
       "      <th>2</th>\n",
       "      <td>Java developer</td>\n",
       "      <td>Pune</td>\n",
       "      <td>Maharashtra</td>\n",
       "      <td>Looking for a challenging career which demands...</td>\n",
       "      <td>{0: [{'wtitle:': 'Java Developer'}, {'wcompany...</td>\n",
       "      <td>{0: [{'e_title:': \"Bachelor's in Electrical En...</td>\n",
       "      <td>['ECLIPSE (1 year)', ' HIBERNATE', ' SPRING (L...</td>\n",
       "      <td>[]</td>\n",
       "      <td>{}</td>\n",
       "      <td>\\nTECHNICAL SKILLS \\n \\nFrameworks: Spring, Sp...</td>\n",
       "    </tr>\n",
       "    <tr>\n",
       "      <th>3</th>\n",
       "      <td>Seeking innovative and challenging career assi...</td>\n",
       "      <td>Pune</td>\n",
       "      <td>Maharashtra</td>\n",
       "      <td>NONE</td>\n",
       "      <td>{0: [{'wtitle:': 'Java Developer'}, {'wcompany...</td>\n",
       "      <td>{0: [{'e_title:': 'BE in Computer'}, {'e_schoo...</td>\n",
       "      <td>['GIT', ' Angular 7', ' MAVEN', ' Java', ' Jen...</td>\n",
       "      <td>[]</td>\n",
       "      <td>{}</td>\n",
       "      <td>NONE</td>\n",
       "    </tr>\n",
       "    <tr>\n",
       "      <th>4</th>\n",
       "      <td>NONE</td>\n",
       "      <td>Pune</td>\n",
       "      <td>Maharashtra</td>\n",
       "      <td>NONE</td>\n",
       "      <td>{0: [{'wtitle:': 'Java Developer'}, {'wcompany...</td>\n",
       "      <td>{0: [{'e_title:': 'Bachelor of Engineering in ...</td>\n",
       "      <td>['Project: HR Payroll Systems Role: Java Devel...</td>\n",
       "      <td>[]</td>\n",
       "      <td>{}</td>\n",
       "      <td>NONE</td>\n",
       "    </tr>\n",
       "  </tbody>\n",
       "</table>\n",
       "</div>"
      ],
      "text/plain": [
       "                                        Resume_title       City         State  \\\n",
       "0                                     Java Developer      Tirur        Kerala   \n",
       "1                                 Software Developer  Bengaluru     Karnataka   \n",
       "2                                     Java developer       Pune   Maharashtra   \n",
       "3  Seeking innovative and challenging career assi...       Pune   Maharashtra   \n",
       "4                                               NONE       Pune   Maharashtra   \n",
       "\n",
       "                                         Description  \\\n",
       "0  To prove myself dedicated, worthy and energeti...   \n",
       "1  Working as Software Developer at IngroInfo Sof...   \n",
       "2  Looking for a challenging career which demands...   \n",
       "3                                               NONE   \n",
       "4                                               NONE   \n",
       "\n",
       "                                    work_experiences  \\\n",
       "0  {0: [{'wtitle:': 'Java Developer'}, {'wcompany...   \n",
       "1  {0: [{'wtitle:': 'JAVA DEVELOPER'}, {'wcompany...   \n",
       "2  {0: [{'wtitle:': 'Java Developer'}, {'wcompany...   \n",
       "3  {0: [{'wtitle:': 'Java Developer'}, {'wcompany...   \n",
       "4  {0: [{'wtitle:': 'Java Developer'}, {'wcompany...   \n",
       "\n",
       "                                          Educations  \\\n",
       "0  {0: [{'e_title:': \"Bachelor's in Bachelor of C...   \n",
       "1  {0: [{'e_title:': 'MCA in Master of Computer A...   \n",
       "2  {0: [{'e_title:': \"Bachelor's in Electrical En...   \n",
       "3  {0: [{'e_title:': 'BE in Computer'}, {'e_schoo...   \n",
       "4  {0: [{'e_title:': 'Bachelor of Engineering in ...   \n",
       "\n",
       "                                              Skills  \\\n",
       "0  ['Java (Less than 1 year)', ' Jsp (Less than 1...   \n",
       "1  ['Programming Languages: Core Java', ' J2EE \\n...   \n",
       "2  ['ECLIPSE (1 year)', ' HIBERNATE', ' SPRING (L...   \n",
       "3  ['GIT', ' Angular 7', ' MAVEN', ' Java', ' Jen...   \n",
       "4  ['Project: HR Payroll Systems Role: Java Devel...   \n",
       "\n",
       "                                               Links  \\\n",
       "0  ['https://www.linkedin.com/in/mohamed-rihan-k-...   \n",
       "1  ['http://github.com/NK-PATEL/Train_Project', '...   \n",
       "2                                                 []   \n",
       "3                                                 []   \n",
       "4                                                 []   \n",
       "\n",
       "                                        Certificates  \\\n",
       "0  {0: [{'c_title:': 'Java Developer'}, {'c_durat...   \n",
       "1                                                 {}   \n",
       "2                                                 {}   \n",
       "3                                                 {}   \n",
       "4                                                 {}   \n",
       "\n",
       "                              Additional Information  \n",
       "0  \\nTechnical Expertise \\nâ€¢ Operating Systems:...  \n",
       "1                                               NONE  \n",
       "2  \\nTECHNICAL SKILLS \\n \\nFrameworks: Spring, Sp...  \n",
       "3                                               NONE  \n",
       "4                                               NONE  "
      ]
     },
     "execution_count": 488,
     "metadata": {},
     "output_type": "execute_result"
    }
   ],
   "source": [
    "resume.head(5)"
   ]
  },
  {
   "cell_type": "markdown",
   "metadata": {},
   "source": [
    "## With initial looks of data, found that few columns are not just int / strings and might need special attention :\n",
    "\n",
    "**1.  Nested JSONs in columns :**\n",
    "        * Work Experience\n",
    "        * Education\n",
    "        * Certificates\n",
    "\n",
    "**2.  List in columns :**\n",
    "        * Skills\n",
    "        * Links"
   ]
  },
  {
   "cell_type": "markdown",
   "metadata": {},
   "source": [
    "# Step 2. Data Wrangling and Feature Engineering\n",
    "\n",
    "\n",
    "I will be working on each column to understand data better."
   ]
  },
  {
   "cell_type": "markdown",
   "metadata": {},
   "source": [
    "#########################################################################################################\n",
    "## a. Work experiences\n",
    "\n",
    "**1. Read and Capture data into different variables (if needed for matching)**\n",
    "\n",
    "\n",
    "**2. Generate new column- \"total work experience\"**\n",
    "#########################################################################################################"
   ]
  },
  {
   "cell_type": "code",
   "execution_count": 489,
   "metadata": {},
   "outputs": [
    {
     "name": "stdout",
     "output_type": "stream",
     "text": [
      "<class 'pandas.core.frame.DataFrame'>\n",
      "RangeIndex: 14798 entries, 0 to 14797\n",
      "Data columns (total 10 columns):\n",
      " #   Column                  Non-Null Count  Dtype \n",
      "---  ------                  --------------  ----- \n",
      " 0   Resume_title            14798 non-null  object\n",
      " 1   City                    14798 non-null  object\n",
      " 2   State                   14798 non-null  object\n",
      " 3   Description             14798 non-null  object\n",
      " 4   work_experiences        14798 non-null  object\n",
      " 5   Educations              14798 non-null  object\n",
      " 6   Skills                  14798 non-null  object\n",
      " 7   Links                   14798 non-null  object\n",
      " 8   Certificates            14798 non-null  object\n",
      " 9   Additional Information  14798 non-null  object\n",
      "dtypes: object(10)\n",
      "memory usage: 1.1+ MB\n"
     ]
    }
   ],
   "source": [
    "resume.info()"
   ]
  },
  {
   "cell_type": "code",
   "execution_count": 490,
   "metadata": {},
   "outputs": [],
   "source": [
    "for index, rows in resume.iterrows():\n",
    "    total_exp = 0 \n",
    "    #pick work experience column and read it as JSON \n",
    "    work = resume['work_experiences'][index]\n",
    "    try: result_work = eval(work)\n",
    "    except: continue\n",
    "    #print(f'resume  :  {index}')\n",
    "    \n",
    "# read each position, company,city, duration, desc from education in variables     \n",
    "# Capture total relevant experience via parsing duration and pulling out days words and finally convert them into years\n",
    "    \n",
    "    for i in result_work:\n",
    "        num_months=0\n",
    "        #print(f'my i is  {i}')\n",
    "        w_title= (result_work[i][0]['wtitle:'])\n",
    "        \n",
    "        w_title_n = (result_work[0][0]['wtitle:'])\n",
    "        #print(w_title)\n",
    "        \n",
    "        w_company= (result_work[i][1]['wcompany:'])\n",
    "        #print(w_company)        \n",
    "        \n",
    "        w_city= (result_work[i][2]['wcity:'])\n",
    "        #print(w_city)     \n",
    "        \n",
    "        w_state= (result_work[i][3]['wstate:'])\n",
    "        #print(w_state)\n",
    "        \n",
    "        w_duration= (result_work[i][4]['wduration:'])\n",
    "        #print(w_duration)       \n",
    "        duration = w_duration.split(\" \")\n",
    "        #print(f'len is {len(duration)}')\n",
    "        #parsing 'duration' column to calculate total experience by the nature of available data        \n",
    "        if (len(duration)==4 and duration[3].upper() == 'PRESENT'):\n",
    "            end_date = date.today() # if 'present - take system date'\n",
    "            start_month = strptime(duration[0],'%B').tm_mon\n",
    "            start_date = date(int(duration[1]),start_month,1)\n",
    "            #print(start_date ,'  ', end_date )\n",
    "            # number of months in each job\n",
    "            num_months = (end_date.year - start_date.year) * 12 + (end_date.month - start_date.month)\n",
    "            #print('total months : ',num_months)\n",
    "        elif (len(duration)==5): \n",
    "            start_month = strptime(duration[0],'%B').tm_mon\n",
    "            start_date = date(int(duration[1]),start_month,1)\n",
    "            #print(start_date)\n",
    "            end_month = strptime(duration[3],'%B').tm_mon\n",
    "            end_date = date(int(duration[4]),end_month,1)\n",
    "            #print(start_date ,'  ', end_date )\n",
    "            num_months = (end_date.year - start_date.year) * 12 + (end_date.month - start_date.month)\n",
    "            #print('total months : ',num_months)            \n",
    "        #total years of experience\n",
    "        total_exp = total_exp + num_months\n",
    "\n",
    "        total_exp_yrs = total_exp/12\n",
    "        resume.loc[index,'total_experience']= total_exp_yrs \n",
    "        \n",
    "        w_descr= (result_work[i][5]['wdescr:'])"
   ]
  },
  {
   "cell_type": "code",
   "execution_count": 491,
   "metadata": {},
   "outputs": [
    {
     "data": {
      "text/plain": [
       "0        False\n",
       "1        False\n",
       "2        False\n",
       "3        False\n",
       "4        False\n",
       "         ...  \n",
       "14793    False\n",
       "14794    False\n",
       "14795    False\n",
       "14796    False\n",
       "14797    False\n",
       "Name: total_experience, Length: 14798, dtype: bool"
      ]
     },
     "execution_count": 491,
     "metadata": {},
     "output_type": "execute_result"
    }
   ],
   "source": [
    "resume['total_experience'].fillna(0,inplace=True)\n",
    "resume['total_experience'] = resume['total_experience'].astype(int)\n",
    "resume['total_experience'].isna()"
   ]
  },
  {
   "cell_type": "markdown",
   "metadata": {},
   "source": [
    "### As experience is too varied, I choose to bin experince in range (4 different ranges)\n",
    "\n",
    "### Binning total experience in experince range :\n",
    "\n",
    "* 0-1 years -0\n",
    "* 1-5 years -1\n",
    "* 5-10 years-2\n",
    "* 10+ years -3"
   ]
  },
  {
   "cell_type": "code",
   "execution_count": 492,
   "metadata": {},
   "outputs": [],
   "source": [
    "# adding experience range\n",
    "arr = np.array([0,2,6,11])\n",
    "resume['experience_range'] = arr.searchsorted(resume.total_experience, side='right') - 1"
   ]
  },
  {
   "cell_type": "code",
   "execution_count": 493,
   "metadata": {},
   "outputs": [
    {
     "data": {
      "text/plain": [
       "experience_range\n",
       "0    5820\n",
       "2    3580\n",
       "1    3135\n",
       "3    2263\n",
       "Name: count, dtype: int64"
      ]
     },
     "execution_count": 493,
     "metadata": {},
     "output_type": "execute_result"
    }
   ],
   "source": [
    "resume['experience_range'].value_counts()"
   ]
  },
  {
   "cell_type": "code",
   "execution_count": 494,
   "metadata": {},
   "outputs": [
    {
     "name": "stdout",
     "output_type": "stream",
     "text": [
      "<class 'pandas.core.frame.DataFrame'>\n",
      "RangeIndex: 14798 entries, 0 to 14797\n",
      "Data columns (total 12 columns):\n",
      " #   Column                  Non-Null Count  Dtype \n",
      "---  ------                  --------------  ----- \n",
      " 0   Resume_title            14798 non-null  object\n",
      " 1   City                    14798 non-null  object\n",
      " 2   State                   14798 non-null  object\n",
      " 3   Description             14798 non-null  object\n",
      " 4   work_experiences        14798 non-null  object\n",
      " 5   Educations              14798 non-null  object\n",
      " 6   Skills                  14798 non-null  object\n",
      " 7   Links                   14798 non-null  object\n",
      " 8   Certificates            14798 non-null  object\n",
      " 9   Additional Information  14798 non-null  object\n",
      " 10  total_experience        14798 non-null  int32 \n",
      " 11  experience_range        14798 non-null  int64 \n",
      "dtypes: int32(1), int64(1), object(10)\n",
      "memory usage: 1.3+ MB\n"
     ]
    }
   ],
   "source": [
    "resume.info()"
   ]
  },
  {
   "cell_type": "markdown",
   "metadata": {},
   "source": [
    "### As seen, there are some nulls in total experience, I will take a closer look to decide how to handle the  same."
   ]
  },
  {
   "cell_type": "code",
   "execution_count": 495,
   "metadata": {},
   "outputs": [
    {
     "data": {
      "text/html": [
       "<div>\n",
       "<style scoped>\n",
       "    .dataframe tbody tr th:only-of-type {\n",
       "        vertical-align: middle;\n",
       "    }\n",
       "\n",
       "    .dataframe tbody tr th {\n",
       "        vertical-align: top;\n",
       "    }\n",
       "\n",
       "    .dataframe thead th {\n",
       "        text-align: right;\n",
       "    }\n",
       "</style>\n",
       "<table border=\"1\" class=\"dataframe\">\n",
       "  <thead>\n",
       "    <tr style=\"text-align: right;\">\n",
       "      <th></th>\n",
       "      <th>Resume_title</th>\n",
       "      <th>City</th>\n",
       "      <th>State</th>\n",
       "      <th>Description</th>\n",
       "      <th>work_experiences</th>\n",
       "      <th>Educations</th>\n",
       "      <th>Skills</th>\n",
       "      <th>Links</th>\n",
       "      <th>Certificates</th>\n",
       "      <th>Additional Information</th>\n",
       "      <th>total_experience</th>\n",
       "      <th>experience_range</th>\n",
       "    </tr>\n",
       "  </thead>\n",
       "  <tbody>\n",
       "  </tbody>\n",
       "</table>\n",
       "</div>"
      ],
      "text/plain": [
       "Empty DataFrame\n",
       "Columns: [Resume_title, City, State, Description, work_experiences, Educations, Skills, Links, Certificates, Additional Information, total_experience, experience_range]\n",
       "Index: []"
      ]
     },
     "execution_count": 495,
     "metadata": {},
     "output_type": "execute_result"
    }
   ],
   "source": [
    "#checking all nulls in total_experience\n",
    "resume[resume['total_experience'].isna()]"
   ]
  },
  {
   "cell_type": "markdown",
   "metadata": {},
   "source": [
    "### Checking issue with total experience as null. It was found that that these rows are not having null values but instead 'none' string. So need to drop them."
   ]
  },
  {
   "cell_type": "code",
   "execution_count": 496,
   "metadata": {},
   "outputs": [],
   "source": [
    "# to visually see the data with null total experience, I found most coluns are null so i can drop it all\n",
    "resume[resume['total_experience'].isna()].to_csv('total_nones.csv', index=False)"
   ]
  },
  {
   "cell_type": "code",
   "execution_count": 497,
   "metadata": {},
   "outputs": [],
   "source": [
    "resume.drop(resume[resume['total_experience'].isna()].index, axis=0, inplace=True)"
   ]
  },
  {
   "cell_type": "code",
   "execution_count": 498,
   "metadata": {},
   "outputs": [
    {
     "name": "stdout",
     "output_type": "stream",
     "text": [
      "<class 'pandas.core.frame.DataFrame'>\n",
      "RangeIndex: 14798 entries, 0 to 14797\n",
      "Data columns (total 12 columns):\n",
      " #   Column                  Non-Null Count  Dtype \n",
      "---  ------                  --------------  ----- \n",
      " 0   Resume_title            14798 non-null  object\n",
      " 1   City                    14798 non-null  object\n",
      " 2   State                   14798 non-null  object\n",
      " 3   Description             14798 non-null  object\n",
      " 4   work_experiences        14798 non-null  object\n",
      " 5   Educations              14798 non-null  object\n",
      " 6   Skills                  14798 non-null  object\n",
      " 7   Links                   14798 non-null  object\n",
      " 8   Certificates            14798 non-null  object\n",
      " 9   Additional Information  14798 non-null  object\n",
      " 10  total_experience        14798 non-null  int32 \n",
      " 11  experience_range        14798 non-null  int64 \n",
      "dtypes: int32(1), int64(1), object(10)\n",
      "memory usage: 1.3+ MB\n"
     ]
    }
   ],
   "source": [
    "resume.info()"
   ]
  },
  {
   "cell_type": "markdown",
   "metadata": {},
   "source": [
    "######################################################################################\n",
    "## b. Education column \n",
    "\n",
    "**1. To parse education column and generate columns:**\n",
    "* Doctrate \n",
    "* Post grads \n",
    "* Grads\n",
    "* Others\n",
    "\n",
    "\n",
    "**2. To generate specializations columns**\n",
    "######################################################################################"
   ]
  },
  {
   "cell_type": "code",
   "execution_count": 499,
   "metadata": {},
   "outputs": [],
   "source": [
    "#addinting new columns for doc/grad/pg\n",
    "# read each row\n",
    "for index, rows in resume.iterrows():\n",
    "#pick education col and read it as JSON \n",
    "    edu = resume['Educations'][index]\n",
    "    try: result_edu = eval(edu)\n",
    "    except: continue\n",
    "    \n",
    "    if edu == '{}': #this code is added as some education columns are found blank - '{}' - as edu_unknown count != row count\n",
    "        #print(edu)\n",
    "        resume.loc[index,'edu_unknown'] = 1\n",
    "        resume.loc[index,'Is_grad'] = 0\n",
    "        resume.loc[index,'Is_postgrad'] = 0\n",
    "        resume.loc[index,'Is_doc'] = 0\n",
    "#print(edu)\n",
    "    #print(f'resume  :  {index}')\n",
    "    #read each title from education JSON to capture Doctrate/ post grads/ grads\n",
    "    for i in result_edu:\n",
    "        #print(f'my i is  {i}')\n",
    "        edu_title= (result_edu[i][0]['e_title:']).lower()\n",
    "        #print(edu_title)\n",
    "        #for ug1 in ug:       \n",
    "        if re.search('^ph.d', edu_title):\n",
    "            #print(\"Doctrate\")\n",
    "            resume.loc[index,'Is_doc'] = 1\n",
    "            resume.loc[index,'Is_postgrad'] = 1\n",
    "            resume.loc[index,'Is_grad'] = 1\n",
    "            resume.loc[index,'edu_unknown'] = 0\n",
    "            break        \n",
    "        elif re.search(('^m|^pg|^post '), edu_title):\n",
    "            #print(\"Post-grad\")\n",
    "            resume.loc[index,'Is_doc'] = 0\n",
    "            resume.loc[index,'Is_postgrad'] = 1\n",
    "            resume.loc[index,'Is_grad'] = 1\n",
    "            resume.loc[index,'edu_unknown'] = 0\n",
    "            break\n",
    "        elif re.search('^b', edu_title):\n",
    "            #print(\"Graduate\")\n",
    "            resume.loc[index,'Is_grad'] = 1\n",
    "            resume.loc[index,'Is_postgrad'] = 0\n",
    "            resume.loc[index,'Is_doc'] = 0\n",
    "            resume.loc[index,'edu_unknown'] = 0\n",
    "            break\n",
    "        else:\n",
    "            resume.loc[index,'edu_unknown'] = 1\n",
    "            resume.loc[index,'Is_grad'] = 0\n",
    "            resume.loc[index,'Is_postgrad'] = 0\n",
    "            resume.loc[index,'Is_doc'] = 0\n",
    "        edu_school = (result_edu[i][1]['e_schoolname:'])\n",
    "        edu_city = (result_edu[i][2]['e_city:'])\n",
    "        edu_state = (result_edu[i][3]['e_state:'])\n",
    "        edu_duration= (result_edu[i][4]['e_duration:'])"
   ]
  },
  {
   "cell_type": "code",
   "execution_count": 500,
   "metadata": {},
   "outputs": [],
   "source": [
    "#resume[resume['edu_unknown'].isna()]"
   ]
  },
  {
   "cell_type": "code",
   "execution_count": 501,
   "metadata": {},
   "outputs": [],
   "source": [
    "#removing nulls, for no degree setting 'edu_unknown' as 1\n",
    "resume['edu_unknown'].fillna(1, inplace = True) \n",
    "resume['Is_grad'].fillna(0, inplace = True) \n",
    "resume['Is_postgrad'].fillna(0, inplace = True) \n",
    "resume['Is_doc'].fillna(0, inplace = True) \n",
    "\n",
    "#converting to int\n",
    "resume['Is_doc'] = resume['Is_doc'].astype('int')\n",
    "resume['Is_postgrad'] = resume['Is_postgrad'].astype('int')\n",
    "resume['Is_grad']= resume['Is_grad'].astype('int')\n",
    "resume['edu_unknown']= resume['edu_unknown'].astype('int')"
   ]
  },
  {
   "cell_type": "code",
   "execution_count": 502,
   "metadata": {},
   "outputs": [],
   "source": [
    "# Column names should match the columns in job dataset\n",
    "resume.rename(columns={'Is_grad': 'is_grad','Is_postgrad': 'is_postgrad','Is_doc': 'is_doc'}, inplace=True) "
   ]
  },
  {
   "cell_type": "markdown",
   "metadata": {},
   "source": [
    "### Parsing education to find and add specialization \n",
    "\n",
    "**For the purpose of making it simple, I choose to have the following specialiations :**\n",
    "* Comuter_Eng - that have specialization in computers or any engineering\n",
    "* Finance\n",
    "* HR\n",
    "* AI_Stats - any thing related to data science\n",
    "* MBA - Any business masters\n",
    "* others\n"
   ]
  },
  {
   "cell_type": "code",
   "execution_count": 503,
   "metadata": {},
   "outputs": [],
   "source": [
    "#adding Specialization \n",
    "# read each row\n",
    "for index, rows in resume.iterrows():\n",
    "    #pick education col and read it as JSON \n",
    "    edu = resume['Educations'][index]\n",
    "    if edu == '{}': #this code is added as some education columns are found blank - '{}' - as edu_unknown count != row count\n",
    "        resume.loc[index,'Computer_Eng'] = 0\n",
    "        resume.loc[index,'Finance'] = 0\n",
    "        resume.loc[index,'HR'] = 0\n",
    "        resume.loc[index,'AI_stats'] = 0\n",
    "        resume.loc[index,'MBA'] = 0\n",
    "        resume.loc[index,'Other_specialization'] = 1    \n",
    "    try: result_edu = eval(edu)\n",
    "    except: continue\n",
    "#print(edu)\n",
    "    #print(f'resume  :  {index}')\n",
    "    #read each title from education JSON to capture Doctrate/ post grads/ grads\n",
    "    for i in result_edu:\n",
    "        #print(f'my i is  {i}')\n",
    "        edu_title= (result_edu[i][0]['e_title:'])\n",
    "        edu_title=edu_title.lower()\n",
    "        #print(edu_title)       \n",
    "        if re.search('computer|information|tech|b.e|software|b.c.a|mca|bca|m.c.a|cse|electronics|c.s.e|engineering|be', edu_title):\n",
    "            #print(\"Doctrate\")\n",
    "            resume.loc[index,'Computer_Eng'] = 1\n",
    "            resume.loc[index,'Finance'] = 0\n",
    "            resume.loc[index,'HR'] = 0\n",
    "            resume.loc[index,'AI_stats'] = 0\n",
    "            resume.loc[index,'MBA'] = 0\n",
    "            resume.loc[index,'Other_specialization'] = 0\n",
    "            break        \n",
    "        elif re.search('finance|commerce|account|ca|.com$', edu_title):\n",
    "            #print(\"Post-grad\")\n",
    "            resume.loc[index,'Computer_Eng'] = 0\n",
    "            resume.loc[index,'Finance'] = 1\n",
    "            resume.loc[index,'HR'] = 0\n",
    "            resume.loc[index,'AI_stats'] = 0\n",
    "            resume.loc[index,'MBA'] = 0\n",
    "            resume.loc[index,'Other_specialization'] = 0\n",
    "            break\n",
    "        elif re.search('human|h.r|hr', edu_title):\n",
    "            #print(\"Graduate\")\n",
    "            resume.loc[index,'Computer_Eng'] = 0\n",
    "            resume.loc[index,'Finance'] = 0\n",
    "            resume.loc[index,'HR'] = 1\n",
    "            resume.loc[index,'AI_stats'] = 0\n",
    "            resume.loc[index,'MBA'] = 0\n",
    "            resume.loc[index,'Other_specialization'] = 0\n",
    "            break\n",
    "        elif re.search('mba|m.b.a|pgdm|business', edu_title):\n",
    "            #print(\"Graduate\")\n",
    "            resume.loc[index,'Computer_Eng'] = 0\n",
    "            resume.loc[index,'Finance'] = 0\n",
    "            resume.loc[index,'HR'] = 0\n",
    "            resume.loc[index,'AI_stats'] = 0\n",
    "            resume.loc[index,'MBA'] = 1\n",
    "            resume.loc[index,'Other_specialization'] = 0            \n",
    "            break\n",
    "        elif re.search('math|stats|ai|intelligence|big|cloud|data|machine|analytics', edu_title):\n",
    "            #print(\"Graduate\")\n",
    "            resume.loc[index,'Computer_Eng'] = 0\n",
    "            resume.loc[index,'Finance'] = 0\n",
    "            resume.loc[index,'HR'] = 0\n",
    "            resume.loc[index,'AI_stats'] = 1\n",
    "            resume.loc[index,'MBA'] = 0\n",
    "            resume.loc[index,'Other_specialization'] = 0\n",
    "            break\n",
    "        else:\n",
    "            resume.loc[index,'Other_specialization'] = 1\n",
    "            resume.loc[index,'Computer_Eng'] = 0\n",
    "            resume.loc[index,'Finance'] = 0\n",
    "            resume.loc[index,'HR'] = 0\n",
    "            resume.loc[index,'AI_stats'] = 0\n",
    "            resume.loc[index,'MBA'] = 0"
   ]
  },
  {
   "cell_type": "code",
   "execution_count": 504,
   "metadata": {},
   "outputs": [
    {
     "name": "stdout",
     "output_type": "stream",
     "text": [
      "<class 'pandas.core.frame.DataFrame'>\n",
      "RangeIndex: 14798 entries, 0 to 14797\n",
      "Data columns (total 22 columns):\n",
      " #   Column                  Non-Null Count  Dtype  \n",
      "---  ------                  --------------  -----  \n",
      " 0   Resume_title            14798 non-null  object \n",
      " 1   City                    14798 non-null  object \n",
      " 2   State                   14798 non-null  object \n",
      " 3   Description             14798 non-null  object \n",
      " 4   work_experiences        14798 non-null  object \n",
      " 5   Educations              14798 non-null  object \n",
      " 6   Skills                  14798 non-null  object \n",
      " 7   Links                   14798 non-null  object \n",
      " 8   Certificates            14798 non-null  object \n",
      " 9   Additional Information  14798 non-null  object \n",
      " 10  total_experience        14798 non-null  int32  \n",
      " 11  experience_range        14798 non-null  int64  \n",
      " 12  is_grad                 14798 non-null  int32  \n",
      " 13  is_postgrad             14798 non-null  int32  \n",
      " 14  is_doc                  14798 non-null  int32  \n",
      " 15  edu_unknown             14798 non-null  int32  \n",
      " 16  Computer_Eng            14796 non-null  float64\n",
      " 17  Finance                 14796 non-null  float64\n",
      " 18  HR                      14796 non-null  float64\n",
      " 19  AI_stats                14796 non-null  float64\n",
      " 20  MBA                     14796 non-null  float64\n",
      " 21  Other_specialization    14796 non-null  float64\n",
      "dtypes: float64(6), int32(5), int64(1), object(10)\n",
      "memory usage: 2.2+ MB\n"
     ]
    }
   ],
   "source": [
    "resume.info()"
   ]
  },
  {
   "cell_type": "code",
   "execution_count": 505,
   "metadata": {},
   "outputs": [],
   "source": [
    "resume['Other_specialization'].fillna(1, inplace = True) \n",
    "resume['Computer_Eng'].fillna(0, inplace = True) \n",
    "resume['Finance'].fillna(0, inplace = True) \n",
    "resume['HR'].fillna(0, inplace = True) \n",
    "resume['AI_stats'].fillna(0, inplace = True) \n",
    "resume['MBA'].fillna(0, inplace = True) "
   ]
  },
  {
   "cell_type": "code",
   "execution_count": 506,
   "metadata": {},
   "outputs": [],
   "source": [
    "#converting specializations to int\n",
    "resume['Computer_Eng']=resume['Computer_Eng'].astype('int')\n",
    "resume['Finance']=resume['Finance'].astype('int')\n",
    "resume['HR']=resume['HR'].astype('int')\n",
    "resume['AI_stats']=resume['AI_stats'].astype('int')\n",
    "resume['MBA']=resume['MBA'].astype('int')\n",
    "resume['Other_specialization']=resume['Other_specialization'].astype('int')"
   ]
  },
  {
   "cell_type": "code",
   "execution_count": 507,
   "metadata": {},
   "outputs": [],
   "source": [
    "#removing nulls, for no specialization setting 'Other_specialization' as 1\n",
    "\n"
   ]
  },
  {
   "cell_type": "code",
   "execution_count": 508,
   "metadata": {},
   "outputs": [],
   "source": [
    "# resume[resume['Others'].isna()]"
   ]
  },
  {
   "cell_type": "code",
   "execution_count": 509,
   "metadata": {},
   "outputs": [],
   "source": [
    "resume_temp1 = resume.copy()"
   ]
  },
  {
   "cell_type": "code",
   "execution_count": 510,
   "metadata": {},
   "outputs": [],
   "source": [
    "resume_temp1.to_csv('resume_with_total_exp_education.csv', index=False)"
   ]
  },
  {
   "cell_type": "markdown",
   "metadata": {},
   "source": [
    "###############################################################################\n",
    "## c. Resume Title Column \n",
    "\n",
    "This column is very important to any resume. On analysis, I find that there are lot of similar titles that appeared differently in this column like :\n",
    "* Java developer\n",
    "* java dev\n",
    "###############################################################################"
   ]
  },
  {
   "cell_type": "code",
   "execution_count": 511,
   "metadata": {},
   "outputs": [],
   "source": [
    "#resume_temp1 = resume.copy() - saving data worked time to time"
   ]
  },
  {
   "cell_type": "code",
   "execution_count": 512,
   "metadata": {},
   "outputs": [],
   "source": [
    "# lowering all titles\n",
    "resume['Resume_title'] = resume['Resume_title'].str.lower()"
   ]
  },
  {
   "cell_type": "code",
   "execution_count": 513,
   "metadata": {},
   "outputs": [
    {
     "data": {
      "text/plain": [
       "3208"
      ]
     },
     "execution_count": 513,
     "metadata": {},
     "output_type": "execute_result"
    }
   ],
   "source": [
    "#finding unique values\n",
    "resume['Resume_title'].nunique()"
   ]
  },
  {
   "cell_type": "code",
   "execution_count": 514,
   "metadata": {},
   "outputs": [
    {
     "data": {
      "text/plain": [
       "Resume_title\n",
       "none                                                                                                                                                      8027\n",
       "php developer                                                                                                                                              379\n",
       "software developer                                                                                                                                         263\n",
       "python developer                                                                                                                                           207\n",
       "web developer                                                                                                                                              176\n",
       "                                                                                                                                                          ... \n",
       "seo analyst & wordpress developer at promizent solutions pvt.ltd                                                                                             1\n",
       "j2ee developer ,advance java developer, core java developer,hibernate,jdbc,mysql,eclipse,html,css, javascript,jsp,servlet,jpa,ejb, java beans.               1\n",
       "web developer seeking role in web development,software design,software implementation,ui developer,front end developer, javascript,html5,bootstrap,css       1\n",
       "if you can dream it , you can do it                                                                                                                          1\n",
       "back office operations & hr coordinator                                                                                                                      1\n",
       "Name: count, Length: 3208, dtype: int64"
      ]
     },
     "execution_count": 514,
     "metadata": {},
     "output_type": "execute_result"
    }
   ],
   "source": [
    "#checking value counts for each unique title\n",
    "resume['Resume_title'].value_counts()"
   ]
  },
  {
   "cell_type": "markdown",
   "metadata": {},
   "source": [
    "### I see \"None\" in title - that implies nothing so decided : to get latest title from Work Experience"
   ]
  },
  {
   "cell_type": "code",
   "execution_count": 515,
   "metadata": {},
   "outputs": [],
   "source": [
    "# read each work experience\n",
    "for index, rows in resume.iterrows():\n",
    "    #pick work experience col and read it as JSON \n",
    "    work = resume['work_experiences'][index]\n",
    "    try: result_work = eval(work)\n",
    "    except: continue\n",
    "    #print(f'resume  :  {index}')\n",
    "    #read first position ti fill in resume title \n",
    "    \n",
    "    for i in result_work:\n",
    "        num_months=0\n",
    "        #print(f'my i is  {i}')\n",
    "        w_title= (result_work[i][0]['wtitle:']).lower()\n",
    "        w_title_n = (result_work[0][0]['wtitle:']).lower()\n",
    "\n",
    "        #print(w_descr)\n",
    "        if (resume.at[index,'Resume_title']=='none'):\n",
    "            resume.at[index,'Resume_title']=w_title_n"
   ]
  },
  {
   "cell_type": "code",
   "execution_count": 516,
   "metadata": {},
   "outputs": [],
   "source": [
    "# getting csv so if i have to re-run, i can start from here.\n",
    "# resume_latest = resume.copy()\n",
    "# resume_latest.to_csv('wip/latest_sorted_resume.csv', index=False)"
   ]
  },
  {
   "cell_type": "code",
   "execution_count": 517,
   "metadata": {},
   "outputs": [],
   "source": [
    "#resume = pd.read_csv('wip/latest_sorted_resume.csv')"
   ]
  },
  {
   "cell_type": "code",
   "execution_count": 518,
   "metadata": {},
   "outputs": [
    {
     "data": {
      "text/plain": [
       "Resume_title\n",
       "php developer                                   1217\n",
       "software developer                               967\n",
       "java developer                                   933\n",
       "python developer                                 757\n",
       "developer                                        737\n",
       "                                                ... \n",
       "trainer and developer                              1\n",
       "senior technology associate                        1\n",
       "3 month internship - solutions india pvt ltd       1\n",
       "software engineer - webdunia pvt. ltd              1\n",
       "commercial officer                                 1\n",
       "Name: count, Length: 4521, dtype: int64"
      ]
     },
     "execution_count": 518,
     "metadata": {},
     "output_type": "execute_result"
    }
   ],
   "source": [
    "resume['Resume_title'].value_counts()"
   ]
  },
  {
   "cell_type": "code",
   "execution_count": 519,
   "metadata": {},
   "outputs": [
    {
     "data": {
      "text/plain": [
       "Resume_title\n",
       "php developer                1217\n",
       "software developer            967\n",
       "java developer                933\n",
       "python developer              757\n",
       "developer                     737\n",
       "web developer                 498\n",
       "none                          485\n",
       "android developer             240\n",
       "ui developer                  162\n",
       "software engineer             107\n",
       "full stack developer          104\n",
       "data scientist                104\n",
       "python/django developer       104\n",
       "php web developer              85\n",
       "ios developer                  71\n",
       "html developer                 59\n",
       "application developer          58\n",
       "hadoop engineer                56\n",
       "fresher                        52\n",
       "machine learning engineer      47\n",
       "Name: count, dtype: int64"
      ]
     },
     "execution_count": 519,
     "metadata": {},
     "output_type": "execute_result"
    }
   ],
   "source": [
    "resume['Resume_title'].value_counts().head(20)"
   ]
  },
  {
   "cell_type": "code",
   "execution_count": 520,
   "metadata": {},
   "outputs": [],
   "source": [
    "resume.loc[resume['Resume_title'] == 'none', 'Resume_title'] = 'developer'"
   ]
  },
  {
   "cell_type": "code",
   "execution_count": 521,
   "metadata": {},
   "outputs": [
    {
     "data": {
      "text/plain": [
       "Text(0, 0.5, 'Number of Jobs')"
      ]
     },
     "execution_count": 521,
     "metadata": {},
     "output_type": "execute_result"
    },
    {
     "data": {
      "image/png": "[encoded data removed]",
      "text/plain": [
       "<Figure size 640x480 with 1 Axes>"
      ]
     },
     "metadata": {},
     "output_type": "display_data"
    }
   ],
   "source": [
    "resume['Resume_title'].value_counts()[:20].plot(cmap='Greens_r',kind='bar')\n",
    "plt.xlabel(\"Job Titles\")\n",
    "#plt.xticks(rotation=0)\n",
    "plt.ylabel(\"Number of Jobs\")"
   ]
  },
  {
   "cell_type": "markdown",
   "metadata": {},
   "source": [
    "## We notice that major portion of resumes are from IT sector in my database. \n",
    "Its assumed that bias is towards IT jobs and data is skewed.\n",
    "\n",
    "\n",
    "Due to less data for non-IT resumes/ jobs, model will not get trained well and produce good results for non-IT jobs.\n",
    "So, I will use IT jobs / resumes for demo purposes. "
   ]
  },
  {
   "cell_type": "code",
   "execution_count": 522,
   "metadata": {},
   "outputs": [
    {
     "data": {
      "text/plain": [
       "4520"
      ]
     },
     "execution_count": 522,
     "metadata": {},
     "output_type": "execute_result"
    }
   ],
   "source": [
    "resume['Resume_title'].nunique()"
   ]
  },
  {
   "cell_type": "code",
   "execution_count": 523,
   "metadata": {},
   "outputs": [],
   "source": [
    "resume.reset_index(inplace=True)"
   ]
  },
  {
   "cell_type": "code",
   "execution_count": 524,
   "metadata": {},
   "outputs": [],
   "source": [
    "resume['resume_id']= resume.index"
   ]
  },
  {
   "cell_type": "code",
   "execution_count": 525,
   "metadata": {},
   "outputs": [],
   "source": [
    "resume_temp4 = resume.copy()\n",
    "resume_temp4.to_csv('resume_sorted4.csv', index=False)"
   ]
  },
  {
   "cell_type": "code",
   "execution_count": 526,
   "metadata": {
    "scrolled": true
   },
   "outputs": [
    {
     "name": "stdout",
     "output_type": "stream",
     "text": [
      "<class 'pandas.core.frame.DataFrame'>\n",
      "RangeIndex: 14798 entries, 0 to 14797\n",
      "Data columns (total 24 columns):\n",
      " #   Column                  Non-Null Count  Dtype \n",
      "---  ------                  --------------  ----- \n",
      " 0   index                   14798 non-null  int64 \n",
      " 1   Resume_title            14798 non-null  object\n",
      " 2   City                    14798 non-null  object\n",
      " 3   State                   14798 non-null  object\n",
      " 4   Description             14798 non-null  object\n",
      " 5   work_experiences        14798 non-null  object\n",
      " 6   Educations              14798 non-null  object\n",
      " 7   Skills                  14798 non-null  object\n",
      " 8   Links                   14798 non-null  object\n",
      " 9   Certificates            14798 non-null  object\n",
      " 10  Additional Information  14798 non-null  object\n",
      " 11  total_experience        14798 non-null  int32 \n",
      " 12  experience_range        14798 non-null  int64 \n",
      " 13  is_grad                 14798 non-null  int32 \n",
      " 14  is_postgrad             14798 non-null  int32 \n",
      " 15  is_doc                  14798 non-null  int32 \n",
      " 16  edu_unknown             14798 non-null  int32 \n",
      " 17  Computer_Eng            14798 non-null  int32 \n",
      " 18  Finance                 14798 non-null  int32 \n",
      " 19  HR                      14798 non-null  int32 \n",
      " 20  AI_stats                14798 non-null  int32 \n",
      " 21  MBA                     14798 non-null  int32 \n",
      " 22  Other_specialization    14798 non-null  int32 \n",
      " 23  resume_id               14798 non-null  int64 \n",
      "dtypes: int32(11), int64(3), object(10)\n",
      "memory usage: 2.1+ MB\n"
     ]
    }
   ],
   "source": [
    "resume.info()"
   ]
  },
  {
   "cell_type": "markdown",
   "metadata": {},
   "source": [
    "##########################################################################################################################\n",
    "\n",
    "## d. City / State\n",
    "\n",
    "### Very important feature, as at some point I might need to filter down to jobs for location matching the resume location. \n",
    "\n",
    "There were multiple discrepancies observed in State / City column.\n",
    "\n",
    "* Like some city, states, pincodes, nulls. I have to ensure one common format\n",
    "* For any missing/ number values, I choose to make it generic with India with code 1\n",
    "\n",
    "**So I decided to:**\n",
    "* get all cities\n",
    "* map to respective states\n",
    "* provide them uniques location code (to match with job location). \n",
    "**Challenge** - Location code should be same in job and resume dataset to make sense and match properly. \n",
    "\n",
    "\n",
    "## Created following datasets, and use the same for both datasets (resume and job)\n",
    "* **India-state-city dataset** used in jobs dataset. In resume, we are provided with States\n",
    "* **State - State-id dataset**\n",
    "\n",
    "\n",
    "\n",
    "########################################################################################################################"
   ]
  },
  {
   "cell_type": "code",
   "execution_count": 527,
   "metadata": {},
   "outputs": [],
   "source": [
    "# reading my sorted resume csv\n",
    "resume = pd.read_csv('resume_sorted4.csv')"
   ]
  },
  {
   "cell_type": "code",
   "execution_count": 528,
   "metadata": {},
   "outputs": [
    {
     "data": {
      "text/plain": [
       "City\n",
       "Bengaluru        2044\n",
       "NONE             1791\n",
       "Pune             1571\n",
       "Hyderabad        1347\n",
       "Mumbai            747\n",
       "                 ... \n",
       "Cochin              1\n",
       "Morinda             1\n",
       "Porbandar           1\n",
       "Arvi                1\n",
       "Papparappatti       1\n",
       "Name: count, Length: 801, dtype: int64"
      ]
     },
     "execution_count": 528,
     "metadata": {},
     "output_type": "execute_result"
    }
   ],
   "source": [
    "resume['City'].value_counts()"
   ]
  },
  {
   "cell_type": "markdown",
   "metadata": {},
   "source": [
    "### Renaming State to location - to match with jobs. "
   ]
  },
  {
   "cell_type": "code",
   "execution_count": 529,
   "metadata": {},
   "outputs": [
    {
     "data": {
      "text/plain": [
       "location\n",
       " Maharashtra    3044\n",
       " Karnataka      2174\n",
       "NONE            1791\n",
       " Telangana      1374\n",
       " Tamil Nadu     1285\n",
       "                ... \n",
       " Bengaluru         1\n",
       " GA                1\n",
       " NE                1\n",
       " MD                1\n",
       " UAE               1\n",
       "Name: count, Length: 79, dtype: int64"
      ]
     },
     "execution_count": 529,
     "metadata": {},
     "output_type": "execute_result"
    }
   ],
   "source": [
    "resume.rename(columns={'State': 'location'}, inplace=True)\n",
    "resume['location'].value_counts()"
   ]
  },
  {
   "cell_type": "code",
   "execution_count": 530,
   "metadata": {},
   "outputs": [],
   "source": [
    "resume['location'] = resume['location'].str.strip()"
   ]
  },
  {
   "cell_type": "markdown",
   "metadata": {},
   "source": [
    "### Read and used 'State' dataset to get unique state ids to match with jobs. Common dataset has to be used so that ids remain same."
   ]
  },
  {
   "cell_type": "code",
   "execution_count": 531,
   "metadata": {},
   "outputs": [],
   "source": [
    "# reading self-created data-set for states\n",
    "state = pd.read_csv('state.csv')"
   ]
  },
  {
   "cell_type": "code",
   "execution_count": 532,
   "metadata": {},
   "outputs": [],
   "source": [
    "state['State'] =state['State'].str.lower()"
   ]
  },
  {
   "cell_type": "code",
   "execution_count": 533,
   "metadata": {},
   "outputs": [],
   "source": [
    "#creating state dict\n",
    "state_dict = pd.Series(state.State_id.values,index=state.State).to_dict()"
   ]
  },
  {
   "cell_type": "code",
   "execution_count": 534,
   "metadata": {},
   "outputs": [
    {
     "data": {
      "text/plain": [
       "{'india': 1,\n",
       " 'andaman & nicobar islands': 2,\n",
       " 'andhra pradesh': 2,\n",
       " 'arunachal pradesh': 3,\n",
       " 'assam': 4,\n",
       " 'bihar': 5,\n",
       " 'chhattisgarh': 6,\n",
       " 'dadra & nagar haveli': 7,\n",
       " 'daman & diu': 8,\n",
       " 'delhi': 9,\n",
       " 'goa': 10,\n",
       " 'gujarat': 11,\n",
       " 'haryana': 12,\n",
       " 'himachal pradesh': 13,\n",
       " 'jammu & kashmir': 14,\n",
       " 'jharkhand': 15,\n",
       " 'karnataka': 16,\n",
       " 'kerala': 17,\n",
       " 'lakshadweep': 18,\n",
       " 'madhya pradesh': 19,\n",
       " 'maharashtra': 20,\n",
       " 'manipur': 21,\n",
       " 'meghalaya': 22,\n",
       " 'mizoram': 23,\n",
       " 'nagaland': 24,\n",
       " 'orissa': 25,\n",
       " 'pondicherry': 26,\n",
       " 'punjab': 27,\n",
       " 'rajasthan': 28,\n",
       " 'sikkim': 29,\n",
       " 'tamil nadu': 30,\n",
       " 'uttar pradesh': 31,\n",
       " 'uttarakhand': 32,\n",
       " 'west bengal': 33}"
      ]
     },
     "execution_count": 534,
     "metadata": {},
     "output_type": "execute_result"
    }
   ],
   "source": [
    "state_dict"
   ]
  },
  {
   "cell_type": "code",
   "execution_count": 535,
   "metadata": {},
   "outputs": [
    {
     "data": {
      "text/html": [
       "<div>\n",
       "<style scoped>\n",
       "    .dataframe tbody tr th:only-of-type {\n",
       "        vertical-align: middle;\n",
       "    }\n",
       "\n",
       "    .dataframe tbody tr th {\n",
       "        vertical-align: top;\n",
       "    }\n",
       "\n",
       "    .dataframe thead th {\n",
       "        text-align: right;\n",
       "    }\n",
       "</style>\n",
       "<table border=\"1\" class=\"dataframe\">\n",
       "  <thead>\n",
       "    <tr style=\"text-align: right;\">\n",
       "      <th></th>\n",
       "      <th>index</th>\n",
       "      <th>Resume_title</th>\n",
       "      <th>City</th>\n",
       "      <th>location</th>\n",
       "      <th>Description</th>\n",
       "      <th>work_experiences</th>\n",
       "      <th>Educations</th>\n",
       "      <th>Skills</th>\n",
       "      <th>Links</th>\n",
       "      <th>Certificates</th>\n",
       "      <th>...</th>\n",
       "      <th>is_postgrad</th>\n",
       "      <th>is_doc</th>\n",
       "      <th>edu_unknown</th>\n",
       "      <th>Computer_Eng</th>\n",
       "      <th>Finance</th>\n",
       "      <th>HR</th>\n",
       "      <th>AI_stats</th>\n",
       "      <th>MBA</th>\n",
       "      <th>Other_specialization</th>\n",
       "      <th>resume_id</th>\n",
       "    </tr>\n",
       "  </thead>\n",
       "  <tbody>\n",
       "    <tr>\n",
       "      <th>0</th>\n",
       "      <td>0</td>\n",
       "      <td>java developer</td>\n",
       "      <td>Tirur</td>\n",
       "      <td>Kerala</td>\n",
       "      <td>To prove myself dedicated, worthy and energeti...</td>\n",
       "      <td>{0: [{'wtitle:': 'Java Developer'}, {'wcompany...</td>\n",
       "      <td>{0: [{'e_title:': \"Bachelor's in Bachelor of C...</td>\n",
       "      <td>['Java (Less than 1 year)', ' Jsp (Less than 1...</td>\n",
       "      <td>['https://www.linkedin.com/in/mohamed-rihan-k-...</td>\n",
       "      <td>{0: [{'c_title:': 'Java Developer'}, {'c_durat...</td>\n",
       "      <td>...</td>\n",
       "      <td>0</td>\n",
       "      <td>0</td>\n",
       "      <td>0</td>\n",
       "      <td>1</td>\n",
       "      <td>0</td>\n",
       "      <td>0</td>\n",
       "      <td>0</td>\n",
       "      <td>0</td>\n",
       "      <td>0</td>\n",
       "      <td>0</td>\n",
       "    </tr>\n",
       "    <tr>\n",
       "      <th>1</th>\n",
       "      <td>1</td>\n",
       "      <td>software developer</td>\n",
       "      <td>Bengaluru</td>\n",
       "      <td>Karnataka</td>\n",
       "      <td>Working as Software Developer at IngroInfo Sof...</td>\n",
       "      <td>{0: [{'wtitle:': 'JAVA DEVELOPER'}, {'wcompany...</td>\n",
       "      <td>{0: [{'e_title:': 'MCA in Master of Computer A...</td>\n",
       "      <td>['Programming Languages: Core Java', ' J2EE \\n...</td>\n",
       "      <td>['http://github.com/NK-PATEL/Train_Project', '...</td>\n",
       "      <td>{}</td>\n",
       "      <td>...</td>\n",
       "      <td>1</td>\n",
       "      <td>0</td>\n",
       "      <td>0</td>\n",
       "      <td>1</td>\n",
       "      <td>0</td>\n",
       "      <td>0</td>\n",
       "      <td>0</td>\n",
       "      <td>0</td>\n",
       "      <td>0</td>\n",
       "      <td>1</td>\n",
       "    </tr>\n",
       "    <tr>\n",
       "      <th>2</th>\n",
       "      <td>2</td>\n",
       "      <td>java developer</td>\n",
       "      <td>Pune</td>\n",
       "      <td>Maharashtra</td>\n",
       "      <td>Looking for a challenging career which demands...</td>\n",
       "      <td>{0: [{'wtitle:': 'Java Developer'}, {'wcompany...</td>\n",
       "      <td>{0: [{'e_title:': \"Bachelor's in Electrical En...</td>\n",
       "      <td>['ECLIPSE (1 year)', ' HIBERNATE', ' SPRING (L...</td>\n",
       "      <td>[]</td>\n",
       "      <td>{}</td>\n",
       "      <td>...</td>\n",
       "      <td>0</td>\n",
       "      <td>0</td>\n",
       "      <td>0</td>\n",
       "      <td>1</td>\n",
       "      <td>0</td>\n",
       "      <td>0</td>\n",
       "      <td>0</td>\n",
       "      <td>0</td>\n",
       "      <td>0</td>\n",
       "      <td>2</td>\n",
       "    </tr>\n",
       "    <tr>\n",
       "      <th>3</th>\n",
       "      <td>3</td>\n",
       "      <td>seeking innovative and challenging career assi...</td>\n",
       "      <td>Pune</td>\n",
       "      <td>Maharashtra</td>\n",
       "      <td>NONE</td>\n",
       "      <td>{0: [{'wtitle:': 'Java Developer'}, {'wcompany...</td>\n",
       "      <td>{0: [{'e_title:': 'BE in Computer'}, {'e_schoo...</td>\n",
       "      <td>['GIT', ' Angular 7', ' MAVEN', ' Java', ' Jen...</td>\n",
       "      <td>[]</td>\n",
       "      <td>{}</td>\n",
       "      <td>...</td>\n",
       "      <td>0</td>\n",
       "      <td>0</td>\n",
       "      <td>0</td>\n",
       "      <td>1</td>\n",
       "      <td>0</td>\n",
       "      <td>0</td>\n",
       "      <td>0</td>\n",
       "      <td>0</td>\n",
       "      <td>0</td>\n",
       "      <td>3</td>\n",
       "    </tr>\n",
       "    <tr>\n",
       "      <th>4</th>\n",
       "      <td>4</td>\n",
       "      <td>java developer</td>\n",
       "      <td>Pune</td>\n",
       "      <td>Maharashtra</td>\n",
       "      <td>NONE</td>\n",
       "      <td>{0: [{'wtitle:': 'Java Developer'}, {'wcompany...</td>\n",
       "      <td>{0: [{'e_title:': 'Bachelor of Engineering in ...</td>\n",
       "      <td>['Project: HR Payroll Systems Role: Java Devel...</td>\n",
       "      <td>[]</td>\n",
       "      <td>{}</td>\n",
       "      <td>...</td>\n",
       "      <td>0</td>\n",
       "      <td>0</td>\n",
       "      <td>0</td>\n",
       "      <td>1</td>\n",
       "      <td>0</td>\n",
       "      <td>0</td>\n",
       "      <td>0</td>\n",
       "      <td>0</td>\n",
       "      <td>0</td>\n",
       "      <td>4</td>\n",
       "    </tr>\n",
       "  </tbody>\n",
       "</table>\n",
       "<p>5 rows × 24 columns</p>\n",
       "</div>"
      ],
      "text/plain": [
       "   index                                       Resume_title       City  \\\n",
       "0      0                                     java developer      Tirur   \n",
       "1      1                                 software developer  Bengaluru   \n",
       "2      2                                     java developer       Pune   \n",
       "3      3  seeking innovative and challenging career assi...       Pune   \n",
       "4      4                                     java developer       Pune   \n",
       "\n",
       "      location                                        Description  \\\n",
       "0       Kerala  To prove myself dedicated, worthy and energeti...   \n",
       "1    Karnataka  Working as Software Developer at IngroInfo Sof...   \n",
       "2  Maharashtra  Looking for a challenging career which demands...   \n",
       "3  Maharashtra                                               NONE   \n",
       "4  Maharashtra                                               NONE   \n",
       "\n",
       "                                    work_experiences  \\\n",
       "0  {0: [{'wtitle:': 'Java Developer'}, {'wcompany...   \n",
       "1  {0: [{'wtitle:': 'JAVA DEVELOPER'}, {'wcompany...   \n",
       "2  {0: [{'wtitle:': 'Java Developer'}, {'wcompany...   \n",
       "3  {0: [{'wtitle:': 'Java Developer'}, {'wcompany...   \n",
       "4  {0: [{'wtitle:': 'Java Developer'}, {'wcompany...   \n",
       "\n",
       "                                          Educations  \\\n",
       "0  {0: [{'e_title:': \"Bachelor's in Bachelor of C...   \n",
       "1  {0: [{'e_title:': 'MCA in Master of Computer A...   \n",
       "2  {0: [{'e_title:': \"Bachelor's in Electrical En...   \n",
       "3  {0: [{'e_title:': 'BE in Computer'}, {'e_schoo...   \n",
       "4  {0: [{'e_title:': 'Bachelor of Engineering in ...   \n",
       "\n",
       "                                              Skills  \\\n",
       "0  ['Java (Less than 1 year)', ' Jsp (Less than 1...   \n",
       "1  ['Programming Languages: Core Java', ' J2EE \\n...   \n",
       "2  ['ECLIPSE (1 year)', ' HIBERNATE', ' SPRING (L...   \n",
       "3  ['GIT', ' Angular 7', ' MAVEN', ' Java', ' Jen...   \n",
       "4  ['Project: HR Payroll Systems Role: Java Devel...   \n",
       "\n",
       "                                               Links  \\\n",
       "0  ['https://www.linkedin.com/in/mohamed-rihan-k-...   \n",
       "1  ['http://github.com/NK-PATEL/Train_Project', '...   \n",
       "2                                                 []   \n",
       "3                                                 []   \n",
       "4                                                 []   \n",
       "\n",
       "                                        Certificates  ... is_postgrad  is_doc  \\\n",
       "0  {0: [{'c_title:': 'Java Developer'}, {'c_durat...  ...           0       0   \n",
       "1                                                 {}  ...           1       0   \n",
       "2                                                 {}  ...           0       0   \n",
       "3                                                 {}  ...           0       0   \n",
       "4                                                 {}  ...           0       0   \n",
       "\n",
       "   edu_unknown  Computer_Eng  Finance  HR  AI_stats  MBA  \\\n",
       "0            0             1        0   0         0    0   \n",
       "1            0             1        0   0         0    0   \n",
       "2            0             1        0   0         0    0   \n",
       "3            0             1        0   0         0    0   \n",
       "4            0             1        0   0         0    0   \n",
       "\n",
       "   Other_specialization  resume_id  \n",
       "0                     0          0  \n",
       "1                     0          1  \n",
       "2                     0          2  \n",
       "3                     0          3  \n",
       "4                     0          4  \n",
       "\n",
       "[5 rows x 24 columns]"
      ]
     },
     "execution_count": 535,
     "metadata": {},
     "output_type": "execute_result"
    }
   ],
   "source": [
    "resume.head()"
   ]
  },
  {
   "cell_type": "code",
   "execution_count": 536,
   "metadata": {},
   "outputs": [
    {
     "data": {
      "text/plain": [
       "0             Kerala\n",
       "1          Karnataka\n",
       "2        Maharashtra\n",
       "3        Maharashtra\n",
       "4        Maharashtra\n",
       "            ...     \n",
       "14793         Kerala\n",
       "14794           NONE\n",
       "14795    West Bengal\n",
       "14796           NONE\n",
       "14797    West Bengal\n",
       "Name: location, Length: 14798, dtype: object"
      ]
     },
     "execution_count": 536,
     "metadata": {},
     "output_type": "execute_result"
    }
   ],
   "source": [
    "resume['location']"
   ]
  },
  {
   "cell_type": "code",
   "execution_count": 537,
   "metadata": {},
   "outputs": [],
   "source": [
    "# Finally replaced locations as states ids\n",
    "resume['location'] = resume['location'].str.lower()\n",
    "resume['location'] = resume['location'].replace(state_dict)\n",
    "#resume['loc_id'] = resume['location'].map(state_dict)"
   ]
  },
  {
   "cell_type": "code",
   "execution_count": 538,
   "metadata": {},
   "outputs": [
    {
     "data": {
      "text/plain": [
       "array([17, 16, 20, 'telangana', 31, 27, 'none', 9, 'in', 12, 2, 5, 19, 32,\n",
       "       30, 11, 15, 28, 13, 25, 'chandigarh', 'chennai', 'telangana.',\n",
       "       'mo', 33, 'puducherry', 4, 6, 'sharjah', 'new delhi',\n",
       "       'jammu and kashmir', 10, 'tx', 'tripura', 'california', 22,\n",
       "       'switzerland', 'united arab emirates', 'france', 'canada',\n",
       "       'development', 'ct', 'pa', 'va', 'fl', 'mumbai', 'cyprus', 'ny',\n",
       "       'germany', 'pitampura', 'il', 'bengaluru', 'ga', 'ca',\n",
       "       'dadra and nagar haveli', 'ne', 'md', 'pallikaranai',\n",
       "       'navi mumbai', 'wi', 'tamilnadu', 'mn', 'nj', 21, 'wisconsin',\n",
       "       'pune', 'oh', 'nc', 'ar', 'de', 'qatar', 'oman', 'uae'],\n",
       "      dtype=object)"
      ]
     },
     "execution_count": 538,
     "metadata": {},
     "output_type": "execute_result"
    }
   ],
   "source": [
    "resume['location'].unique()"
   ]
  },
  {
   "cell_type": "markdown",
   "metadata": {},
   "source": [
    "#### I have got location ids here. But for reporting purposes I would still need State name. Adding loc name as state name from state dict."
   ]
  },
  {
   "cell_type": "code",
   "execution_count": 539,
   "metadata": {},
   "outputs": [
    {
     "data": {
      "text/plain": [
       "location\n",
       "20            3044\n",
       "16            2174\n",
       "none          1791\n",
       "telangana     1374\n",
       "30            1285\n",
       "              ... \n",
       "canada           1\n",
       "france           1\n",
       "california       1\n",
       "telangana.       1\n",
       "uae              1\n",
       "Name: count, Length: 73, dtype: int64"
      ]
     },
     "execution_count": 539,
     "metadata": {},
     "output_type": "execute_result"
    }
   ],
   "source": [
    "resume['location'].value_counts()"
   ]
  },
  {
   "cell_type": "code",
   "execution_count": 540,
   "metadata": {},
   "outputs": [],
   "source": [
    "#creating city state dict\n",
    "state_dict_1 = pd.Series(state.State.values,index=state.State_id).to_dict()"
   ]
  },
  {
   "cell_type": "code",
   "execution_count": 541,
   "metadata": {},
   "outputs": [
    {
     "data": {
      "text/plain": [
       "{1: 'india',\n",
       " 2: 'andhra pradesh',\n",
       " 3: 'arunachal pradesh',\n",
       " 4: 'assam',\n",
       " 5: 'bihar',\n",
       " 6: 'chhattisgarh',\n",
       " 7: 'dadra & nagar haveli',\n",
       " 8: 'daman & diu',\n",
       " 9: 'delhi',\n",
       " 10: 'goa',\n",
       " 11: 'gujarat',\n",
       " 12: 'haryana',\n",
       " 13: 'himachal pradesh',\n",
       " 14: 'jammu & kashmir',\n",
       " 15: 'jharkhand',\n",
       " 16: 'karnataka',\n",
       " 17: 'kerala',\n",
       " 18: 'lakshadweep',\n",
       " 19: 'madhya pradesh',\n",
       " 20: 'maharashtra',\n",
       " 21: 'manipur',\n",
       " 22: 'meghalaya',\n",
       " 23: 'mizoram',\n",
       " 24: 'nagaland',\n",
       " 25: 'orissa',\n",
       " 26: 'pondicherry',\n",
       " 27: 'punjab',\n",
       " 28: 'rajasthan',\n",
       " 29: 'sikkim',\n",
       " 30: 'tamil nadu',\n",
       " 31: 'uttar pradesh',\n",
       " 32: 'uttarakhand',\n",
       " 33: 'west bengal'}"
      ]
     },
     "execution_count": 541,
     "metadata": {},
     "output_type": "execute_result"
    }
   ],
   "source": [
    "state_dict_1"
   ]
  },
  {
   "cell_type": "code",
   "execution_count": 542,
   "metadata": {},
   "outputs": [],
   "source": [
    "resume['loc_name'] = resume['location'].map(state_dict_1)"
   ]
  },
  {
   "cell_type": "code",
   "execution_count": 543,
   "metadata": {},
   "outputs": [
    {
     "data": {
      "text/plain": [
       "0             kerala\n",
       "1          karnataka\n",
       "2        maharashtra\n",
       "3        maharashtra\n",
       "4        maharashtra\n",
       "            ...     \n",
       "14793         kerala\n",
       "14794            NaN\n",
       "14795    west bengal\n",
       "14796            NaN\n",
       "14797    west bengal\n",
       "Name: loc_name, Length: 14798, dtype: object"
      ]
     },
     "execution_count": 543,
     "metadata": {},
     "output_type": "execute_result"
    }
   ],
   "source": [
    "resume['loc_name']"
   ]
  },
  {
   "cell_type": "code",
   "execution_count": 544,
   "metadata": {},
   "outputs": [],
   "source": [
    "resume.loc[resume['location'] == 'none', 'location'] = 1\n",
    "resume['location']=resume['location'].replace(regex='([a-zA-Z])', value=0)\n",
    "resume['loc_name'].fillna('india' , inplace = True) "
   ]
  },
  {
   "cell_type": "code",
   "execution_count": 545,
   "metadata": {},
   "outputs": [
    {
     "data": {
      "text/plain": [
       "loc_name\n",
       "india               3450\n",
       "maharashtra         3044\n",
       "karnataka           2174\n",
       "tamil nadu          1285\n",
       "uttar pradesh        915\n",
       "delhi                693\n",
       "kerala               594\n",
       "gujarat              514\n",
       "west bengal          397\n",
       "haryana              363\n",
       "madhya pradesh       348\n",
       "andhra pradesh       297\n",
       "rajasthan            209\n",
       "punjab               202\n",
       "bihar                 72\n",
       "orissa                66\n",
       "uttarakhand           41\n",
       "chhattisgarh          38\n",
       "jharkhand             35\n",
       "assam                 22\n",
       "goa                   20\n",
       "himachal pradesh      13\n",
       "meghalaya              4\n",
       "manipur                2\n",
       "Name: count, dtype: int64"
      ]
     },
     "execution_count": 545,
     "metadata": {},
     "output_type": "execute_result"
    }
   ],
   "source": [
    "resume['loc_name'].value_counts()"
   ]
  },
  {
   "cell_type": "code",
   "execution_count": 546,
   "metadata": {},
   "outputs": [
    {
     "name": "stdout",
     "output_type": "stream",
     "text": [
      "<class 'pandas.core.frame.DataFrame'>\n",
      "RangeIndex: 14798 entries, 0 to 14797\n",
      "Data columns (total 25 columns):\n",
      " #   Column                  Non-Null Count  Dtype \n",
      "---  ------                  --------------  ----- \n",
      " 0   index                   14798 non-null  int64 \n",
      " 1   Resume_title            14798 non-null  object\n",
      " 2   City                    14798 non-null  object\n",
      " 3   location                14798 non-null  int64 \n",
      " 4   Description             14798 non-null  object\n",
      " 5   work_experiences        14798 non-null  object\n",
      " 6   Educations              14798 non-null  object\n",
      " 7   Skills                  14798 non-null  object\n",
      " 8   Links                   14798 non-null  object\n",
      " 9   Certificates            14798 non-null  object\n",
      " 10  Additional Information  14798 non-null  object\n",
      " 11  total_experience        14798 non-null  int64 \n",
      " 12  experience_range        14798 non-null  int64 \n",
      " 13  is_grad                 14798 non-null  int64 \n",
      " 14  is_postgrad             14798 non-null  int64 \n",
      " 15  is_doc                  14798 non-null  int64 \n",
      " 16  edu_unknown             14798 non-null  int64 \n",
      " 17  Computer_Eng            14798 non-null  int64 \n",
      " 18  Finance                 14798 non-null  int64 \n",
      " 19  HR                      14798 non-null  int64 \n",
      " 20  AI_stats                14798 non-null  int64 \n",
      " 21  MBA                     14798 non-null  int64 \n",
      " 22  Other_specialization    14798 non-null  int64 \n",
      " 23  resume_id               14798 non-null  int64 \n",
      " 24  loc_name                14798 non-null  object\n",
      "dtypes: int64(15), object(10)\n",
      "memory usage: 2.8+ MB\n"
     ]
    }
   ],
   "source": [
    "resume.info()"
   ]
  },
  {
   "cell_type": "code",
   "execution_count": 547,
   "metadata": {},
   "outputs": [
    {
     "data": {
      "text/plain": [
       "Text(0, 0.5, 'Number of Resumes')"
      ]
     },
     "execution_count": 547,
     "metadata": {},
     "output_type": "execute_result"
    },
    {
     "data": {
      "image/png": "[encoded data removed]",
      "text/plain": [
       "<Figure size 640x480 with 1 Axes>"
      ]
     },
     "metadata": {},
     "output_type": "display_data"
    }
   ],
   "source": [
    "#studying the distribution\n",
    "resume['loc_name'].value_counts().plot(cmap='rainbow',kind='bar')\n",
    "plt.xlabel(\"Resume Locations\")\n",
    "#plt.xticks(rotation=0)\n",
    "plt.ylabel(\"Number of Resumes\")"
   ]
  },
  {
   "cell_type": "code",
   "execution_count": 548,
   "metadata": {},
   "outputs": [],
   "source": [
    "# resume_temp4 = resume.copy()\n",
    "# resume_temp4.to_csv('wip/resume_sorted4.csv', index=False)"
   ]
  },
  {
   "cell_type": "markdown",
   "metadata": {},
   "source": [
    "##########################################################################################################################\n",
    "\n",
    "## e. Skills\n",
    "\n",
    "\n",
    "For now, decided to keep skills as is. Just lowering the str values.\n",
    "\n",
    "##########################################################################################################################"
   ]
  },
  {
   "cell_type": "code",
   "execution_count": 549,
   "metadata": {},
   "outputs": [
    {
     "data": {
      "text/plain": [
       "Skills\n",
       "['NONE']                                                                                                                                                                                                                                                                                                                                                                                                                                                                                                                                                                                                                                                                                                                                            1873\n",
       "['HDFS', ' SQOOP', ' CLUSTERING', ' DATA MINING', ' DATA SCIENCE']                                                                                                                                                                                                                                                                                                                                                                                                                                                                                                                                                                                                                                                                                    60\n",
       "['Java']                                                                                                                                                                                                                                                                                                                                                                                                                                                                                                                                                                                                                                                                                                                                              36\n",
       "['Python']                                                                                                                                                                                                                                                                                                                                                                                                                                                                                                                                                                                                                                                                                                                                            29\n",
       "['ECLIPSE', ' J2EE', ' JAVA', ' HIBERNATE', ' SPRING']                                                                                                                                                                                                                                                                                                                                                                                                                                                                                                                                                                                                                                                                                                24\n",
       "                                                                                                                                                                                                                                                                                                                                                                                                                                                                                                                                                                                                                                                                                                                                                    ... \n",
       "['Programming Language Html', ' Reactjs', ' Java. Database MySQL Database tools Mysql workbench Source Control Git(github', ' gitlab) Operating System MS-Windows', ' Ubuntu Technologies Jdbc', ' Servlet', ' Jsp Framework Spring Mvc', ' Spring Boot', ' Hibernate', ' (Jpa', ' Orm', ' Maven', ' Swagger', ' Mybatis). Development tools STS', ' Eclipse IDE', ' NetBeans', ' Android Studio', ' Apache Maven. Other Data Structure.', ' Hands on experience working with Rest API.', ' Hands on experience working with database an Sql query.', ' Creating API documentation with Swagger.', ' Hands on experience spring Boot framework.', ' Integrated third party email service with Send grid.', ' Using version control system Git.']       1\n",
       "['C', ' C++', ' Core Java', ' Sql', ' Servlet', ' JSP', ' Html5', ' Css', ' Javascript', ' Css']                                                                                                                                                                                                                                                                                                                                                                                                                                                                                                                                                                                                                                                       1\n",
       "['C', ' Core Java', ' Html5']                                                                                                                                                                                                                                                                                                                                                                                                                                                                                                                                                                                                                                                                                                                          1\n",
       "['Java', ' Python', ' Software Development', ' Software Engineering', ' Software Programming', ' Software Testing']                                                                                                                                                                                                                                                                                                                                                                                                                                                                                                                                                                                                                                    1\n",
       "['ACCOUNTING', ' ECOMMERCE', ' MANAGEMENT ACCOUNTING']                                                                                                                                                                                                                                                                                                                                                                                                                                                                                                                                                                                                                                                                                                 1\n",
       "Name: count, Length: 8323, dtype: int64"
      ]
     },
     "execution_count": 549,
     "metadata": {},
     "output_type": "execute_result"
    }
   ],
   "source": [
    "# resume['Skills'].nunique()\n",
    "resume['Skills'].value_counts()"
   ]
  },
  {
   "cell_type": "code",
   "execution_count": 550,
   "metadata": {},
   "outputs": [
    {
     "data": {
      "text/plain": [
       "0        ['java (less than 1 year)', ' jsp (less than 1...\n",
       "1        ['programming languages: core java', ' j2ee \\n...\n",
       "2        ['eclipse (1 year)', ' hibernate', ' spring (l...\n",
       "3        ['git', ' angular 7', ' maven', ' java', ' jen...\n",
       "4        ['project: hr payroll systems role: java devel...\n",
       "                               ...                        \n",
       "14793    ['ms office (9 years)', ' aconex project manag...\n",
       "14794                                             ['none']\n",
       "14795    ['accounting', ' erp', ' tally', ' payroll', '...\n",
       "14796    ['erp (2 years)', ' tally (5 years)', ' ms off...\n",
       "14797    ['accounting', ' ecommerce', ' management acco...\n",
       "Name: Skills, Length: 14798, dtype: object"
      ]
     },
     "execution_count": 550,
     "metadata": {},
     "output_type": "execute_result"
    }
   ],
   "source": [
    "resume['Skills']=resume['Skills'].str.lower()\n",
    "resume['Skills']"
   ]
  },
  {
   "cell_type": "markdown",
   "metadata": {},
   "source": [
    "##########################################################################################################################\n",
    "\n",
    "## e. Description, certificates, links, Additional information\n",
    "\n",
    "\n",
    "For now, decided to keep them as is. Will work on it as needed to match with Job descriptions.\n",
    "\n",
    "##########################################################################################################################"
   ]
  },
  {
   "cell_type": "code",
   "execution_count": 551,
   "metadata": {},
   "outputs": [],
   "source": [
    "t= resume.copy()\n",
    "t.to_csv('resume_sorted_final3.csv', index=False)"
   ]
  }
 ],
 "metadata": {
  "kernelspec": {
   "display_name": "Python 3",
   "language": "python",
   "name": "python3"
  },
  "language_info": {
   "codemirror_mode": {
    "name": "ipython",
    "version": 3
   },
   "file_extension": ".py",
   "mimetype": "text/x-python",
   "name": "python",
   "nbconvert_exporter": "python",
   "pygments_lexer": "ipython3",
   "version": "3.11.0"
  }
 },
 "nbformat": 4,
 "nbformat_minor": 4
}
